{
  "nbformat": 4,
  "nbformat_minor": 0,
  "metadata": {
    "colab": {
      "name": "M2_L2 - Análisis_Técnico.ipynb",
      "provenance": [],
      "include_colab_link": true
    },
    "kernelspec": {
      "name": "python3",
      "display_name": "Python 3"
    },
    "language_info": {
      "name": "python"
    }
  },
  "cells": [
    {
      "cell_type": "markdown",
      "metadata": {
        "id": "view-in-github",
        "colab_type": "text"
      },
      "source": [
        "<a href=\"https://colab.research.google.com/github/algoritmosdenegociacion/modulo2/blob/main/M2_L2_An%C3%A1lisis_T%C3%A9cnico.ipynb\" target=\"_parent\"><img src=\"https://colab.research.google.com/assets/colab-badge.svg\" alt=\"Open In Colab\"/></a>"
      ]
    },
    {
      "cell_type": "markdown",
      "metadata": {
        "id": "HDMUuXGmB_q1"
      },
      "source": [
        "# Algoritmos de Negociación basados en Machine Learning - Módulo 2\n",
        "- Sergio Andrés Cabrales, Ph.D., Universidad de los Andes \n",
        "- Juan Pablo Cortés, T.A., Universidad de los Andes\n",
        "\n",
        "https://github.com/algoritmosdenegociacion/"
      ]
    },
    {
      "cell_type": "markdown",
      "metadata": {
        "id": "CSr9zTNECaPv"
      },
      "source": [
        "## 1. Carga de librerías, funciones y APIs necesarias.\n"
      ]
    },
    {
      "cell_type": "markdown",
      "metadata": {
        "id": "mF4dwMlYCb8D"
      },
      "source": [
        "#### 1.1. Instalan las librerías que no incluye Google Colab"
      ]
    },
    {
      "cell_type": "code",
      "metadata": {
        "colab": {
          "base_uri": "https://localhost:8080/"
        },
        "id": "aKnoONgqf_EC",
        "outputId": "b48cf8d8-5ad6-4d49-b48d-79755a792a73"
      },
      "source": [
        "pip install yfinance"
      ],
      "execution_count": null,
      "outputs": [
        {
          "output_type": "stream",
          "text": [
            "Requirement already satisfied: yfinance in /usr/local/lib/python3.7/dist-packages (0.1.63)\n",
            "Requirement already satisfied: numpy>=1.15 in /usr/local/lib/python3.7/dist-packages (from yfinance) (1.19.5)\n",
            "Requirement already satisfied: pandas>=0.24 in /usr/local/lib/python3.7/dist-packages (from yfinance) (1.1.5)\n",
            "Requirement already satisfied: multitasking>=0.0.7 in /usr/local/lib/python3.7/dist-packages (from yfinance) (0.0.9)\n",
            "Requirement already satisfied: requests>=2.20 in /usr/local/lib/python3.7/dist-packages (from yfinance) (2.23.0)\n",
            "Requirement already satisfied: lxml>=4.5.1 in /usr/local/lib/python3.7/dist-packages (from yfinance) (4.6.3)\n",
            "Requirement already satisfied: pytz>=2017.2 in /usr/local/lib/python3.7/dist-packages (from pandas>=0.24->yfinance) (2018.9)\n",
            "Requirement already satisfied: python-dateutil>=2.7.3 in /usr/local/lib/python3.7/dist-packages (from pandas>=0.24->yfinance) (2.8.1)\n",
            "Requirement already satisfied: six>=1.5 in /usr/local/lib/python3.7/dist-packages (from python-dateutil>=2.7.3->pandas>=0.24->yfinance) (1.15.0)\n",
            "Requirement already satisfied: chardet<4,>=3.0.2 in /usr/local/lib/python3.7/dist-packages (from requests>=2.20->yfinance) (3.0.4)\n",
            "Requirement already satisfied: urllib3!=1.25.0,!=1.25.1,<1.26,>=1.21.1 in /usr/local/lib/python3.7/dist-packages (from requests>=2.20->yfinance) (1.24.3)\n",
            "Requirement already satisfied: idna<3,>=2.5 in /usr/local/lib/python3.7/dist-packages (from requests>=2.20->yfinance) (2.10)\n",
            "Requirement already satisfied: certifi>=2017.4.17 in /usr/local/lib/python3.7/dist-packages (from requests>=2.20->yfinance) (2021.5.30)\n"
          ],
          "name": "stdout"
        }
      ]
    },
    {
      "cell_type": "markdown",
      "metadata": {
        "id": "6zaoGOtoCjPq"
      },
      "source": [
        "#### 1.2. Se cargan las librerías necesarias"
      ]
    },
    {
      "cell_type": "code",
      "metadata": {
        "id": "cVO4GoZZCgc8"
      },
      "source": [
        "# Funciones numéricas adicionales\n",
        "import numpy as np\n",
        "\n",
        "# Lectura de datos y manejo de Data-sets\n",
        "import pandas as pd\n",
        "\n",
        "# Datos\n",
        "import yfinance as yfin\n",
        "\n",
        "# Gráficos \n",
        "import matplotlib.pyplot as plt"
      ],
      "execution_count": null,
      "outputs": []
    },
    {
      "cell_type": "markdown",
      "metadata": {
        "id": "0Dvota99Cn_O"
      },
      "source": [
        "## 2. Obtención de datos históricos\n"
      ]
    },
    {
      "cell_type": "markdown",
      "metadata": {
        "id": "R_4CbC3JCq--"
      },
      "source": [
        "https://finance.yahoo.com/"
      ]
    },
    {
      "cell_type": "code",
      "metadata": {
        "id": "7z9AKmNdCr7v",
        "colab": {
          "base_uri": "https://localhost:8080/",
          "height": 467
        },
        "outputId": "f7796091-08c7-4516-b896-041d2a849108"
      },
      "source": [
        "# Descargamos datos de 1 años de la acción de Tesla\n",
        "df = yfin.download('TSLA', data_source='yahoo', start='2020-01-01', end='2021-01-01')\n",
        "df"
      ],
      "execution_count": null,
      "outputs": [
        {
          "output_type": "stream",
          "text": [
            "\r[*********************100%***********************]  1 of 1 completed\n"
          ],
          "name": "stdout"
        },
        {
          "output_type": "execute_result",
          "data": {
            "text/html": [
              "<div>\n",
              "<style scoped>\n",
              "    .dataframe tbody tr th:only-of-type {\n",
              "        vertical-align: middle;\n",
              "    }\n",
              "\n",
              "    .dataframe tbody tr th {\n",
              "        vertical-align: top;\n",
              "    }\n",
              "\n",
              "    .dataframe thead th {\n",
              "        text-align: right;\n",
              "    }\n",
              "</style>\n",
              "<table border=\"1\" class=\"dataframe\">\n",
              "  <thead>\n",
              "    <tr style=\"text-align: right;\">\n",
              "      <th></th>\n",
              "      <th>Open</th>\n",
              "      <th>High</th>\n",
              "      <th>Low</th>\n",
              "      <th>Close</th>\n",
              "      <th>Adj Close</th>\n",
              "      <th>Volume</th>\n",
              "    </tr>\n",
              "    <tr>\n",
              "      <th>Date</th>\n",
              "      <th></th>\n",
              "      <th></th>\n",
              "      <th></th>\n",
              "      <th></th>\n",
              "      <th></th>\n",
              "      <th></th>\n",
              "    </tr>\n",
              "  </thead>\n",
              "  <tbody>\n",
              "    <tr>\n",
              "      <th>2020-01-02</th>\n",
              "      <td>84.900002</td>\n",
              "      <td>86.139999</td>\n",
              "      <td>84.342003</td>\n",
              "      <td>86.052002</td>\n",
              "      <td>86.052002</td>\n",
              "      <td>47660500</td>\n",
              "    </tr>\n",
              "    <tr>\n",
              "      <th>2020-01-03</th>\n",
              "      <td>88.099998</td>\n",
              "      <td>90.800003</td>\n",
              "      <td>87.384003</td>\n",
              "      <td>88.601997</td>\n",
              "      <td>88.601997</td>\n",
              "      <td>88892500</td>\n",
              "    </tr>\n",
              "    <tr>\n",
              "      <th>2020-01-06</th>\n",
              "      <td>88.094002</td>\n",
              "      <td>90.311996</td>\n",
              "      <td>88.000000</td>\n",
              "      <td>90.307999</td>\n",
              "      <td>90.307999</td>\n",
              "      <td>50665000</td>\n",
              "    </tr>\n",
              "    <tr>\n",
              "      <th>2020-01-07</th>\n",
              "      <td>92.279999</td>\n",
              "      <td>94.325996</td>\n",
              "      <td>90.671997</td>\n",
              "      <td>93.811996</td>\n",
              "      <td>93.811996</td>\n",
              "      <td>89410500</td>\n",
              "    </tr>\n",
              "    <tr>\n",
              "      <th>2020-01-08</th>\n",
              "      <td>94.739998</td>\n",
              "      <td>99.697998</td>\n",
              "      <td>93.646004</td>\n",
              "      <td>98.428001</td>\n",
              "      <td>98.428001</td>\n",
              "      <td>155721500</td>\n",
              "    </tr>\n",
              "    <tr>\n",
              "      <th>...</th>\n",
              "      <td>...</td>\n",
              "      <td>...</td>\n",
              "      <td>...</td>\n",
              "      <td>...</td>\n",
              "      <td>...</td>\n",
              "      <td>...</td>\n",
              "    </tr>\n",
              "    <tr>\n",
              "      <th>2020-12-24</th>\n",
              "      <td>642.989990</td>\n",
              "      <td>666.090027</td>\n",
              "      <td>641.000000</td>\n",
              "      <td>661.770020</td>\n",
              "      <td>661.770020</td>\n",
              "      <td>22865600</td>\n",
              "    </tr>\n",
              "    <tr>\n",
              "      <th>2020-12-28</th>\n",
              "      <td>674.510010</td>\n",
              "      <td>681.400024</td>\n",
              "      <td>660.799988</td>\n",
              "      <td>663.690002</td>\n",
              "      <td>663.690002</td>\n",
              "      <td>32278600</td>\n",
              "    </tr>\n",
              "    <tr>\n",
              "      <th>2020-12-29</th>\n",
              "      <td>661.000000</td>\n",
              "      <td>669.900024</td>\n",
              "      <td>655.000000</td>\n",
              "      <td>665.989990</td>\n",
              "      <td>665.989990</td>\n",
              "      <td>22910800</td>\n",
              "    </tr>\n",
              "    <tr>\n",
              "      <th>2020-12-30</th>\n",
              "      <td>672.000000</td>\n",
              "      <td>696.599976</td>\n",
              "      <td>668.359985</td>\n",
              "      <td>694.780029</td>\n",
              "      <td>694.780029</td>\n",
              "      <td>42846000</td>\n",
              "    </tr>\n",
              "    <tr>\n",
              "      <th>2020-12-31</th>\n",
              "      <td>699.989990</td>\n",
              "      <td>718.719971</td>\n",
              "      <td>691.119995</td>\n",
              "      <td>705.669983</td>\n",
              "      <td>705.669983</td>\n",
              "      <td>49649900</td>\n",
              "    </tr>\n",
              "  </tbody>\n",
              "</table>\n",
              "<p>253 rows × 6 columns</p>\n",
              "</div>"
            ],
            "text/plain": [
              "                  Open        High  ...   Adj Close     Volume\n",
              "Date                                ...                       \n",
              "2020-01-02   84.900002   86.139999  ...   86.052002   47660500\n",
              "2020-01-03   88.099998   90.800003  ...   88.601997   88892500\n",
              "2020-01-06   88.094002   90.311996  ...   90.307999   50665000\n",
              "2020-01-07   92.279999   94.325996  ...   93.811996   89410500\n",
              "2020-01-08   94.739998   99.697998  ...   98.428001  155721500\n",
              "...                ...         ...  ...         ...        ...\n",
              "2020-12-24  642.989990  666.090027  ...  661.770020   22865600\n",
              "2020-12-28  674.510010  681.400024  ...  663.690002   32278600\n",
              "2020-12-29  661.000000  669.900024  ...  665.989990   22910800\n",
              "2020-12-30  672.000000  696.599976  ...  694.780029   42846000\n",
              "2020-12-31  699.989990  718.719971  ...  705.669983   49649900\n",
              "\n",
              "[253 rows x 6 columns]"
            ]
          },
          "metadata": {
            "tags": []
          },
          "execution_count": 6
        }
      ]
    },
    {
      "cell_type": "code",
      "metadata": {
        "colab": {
          "base_uri": "https://localhost:8080/",
          "height": 467
        },
        "id": "Fgd3zwkadz3W",
        "outputId": "a43589c7-ca15-43cb-b58e-b74e9308b7fe"
      },
      "source": [
        "# Descargamos datos de 1 años de S&P 500\n",
        "df2 = yfin.download('^GSPC', data_source='yahoo', start='2020-01-01', end='2021-01-01')\n",
        "df2"
      ],
      "execution_count": null,
      "outputs": [
        {
          "output_type": "stream",
          "text": [
            "\r[*********************100%***********************]  1 of 1 completed\n"
          ],
          "name": "stdout"
        },
        {
          "output_type": "execute_result",
          "data": {
            "text/html": [
              "<div>\n",
              "<style scoped>\n",
              "    .dataframe tbody tr th:only-of-type {\n",
              "        vertical-align: middle;\n",
              "    }\n",
              "\n",
              "    .dataframe tbody tr th {\n",
              "        vertical-align: top;\n",
              "    }\n",
              "\n",
              "    .dataframe thead th {\n",
              "        text-align: right;\n",
              "    }\n",
              "</style>\n",
              "<table border=\"1\" class=\"dataframe\">\n",
              "  <thead>\n",
              "    <tr style=\"text-align: right;\">\n",
              "      <th></th>\n",
              "      <th>Open</th>\n",
              "      <th>High</th>\n",
              "      <th>Low</th>\n",
              "      <th>Close</th>\n",
              "      <th>Adj Close</th>\n",
              "      <th>Volume</th>\n",
              "    </tr>\n",
              "    <tr>\n",
              "      <th>Date</th>\n",
              "      <th></th>\n",
              "      <th></th>\n",
              "      <th></th>\n",
              "      <th></th>\n",
              "      <th></th>\n",
              "      <th></th>\n",
              "    </tr>\n",
              "  </thead>\n",
              "  <tbody>\n",
              "    <tr>\n",
              "      <th>2020-01-02</th>\n",
              "      <td>3244.669922</td>\n",
              "      <td>3258.139893</td>\n",
              "      <td>3235.530029</td>\n",
              "      <td>3257.850098</td>\n",
              "      <td>3257.850098</td>\n",
              "      <td>3458250000</td>\n",
              "    </tr>\n",
              "    <tr>\n",
              "      <th>2020-01-03</th>\n",
              "      <td>3226.360107</td>\n",
              "      <td>3246.149902</td>\n",
              "      <td>3222.340088</td>\n",
              "      <td>3234.850098</td>\n",
              "      <td>3234.850098</td>\n",
              "      <td>3461290000</td>\n",
              "    </tr>\n",
              "    <tr>\n",
              "      <th>2020-01-06</th>\n",
              "      <td>3217.550049</td>\n",
              "      <td>3246.840088</td>\n",
              "      <td>3214.639893</td>\n",
              "      <td>3246.280029</td>\n",
              "      <td>3246.280029</td>\n",
              "      <td>3674070000</td>\n",
              "    </tr>\n",
              "    <tr>\n",
              "      <th>2020-01-07</th>\n",
              "      <td>3241.860107</td>\n",
              "      <td>3244.909912</td>\n",
              "      <td>3232.429932</td>\n",
              "      <td>3237.179932</td>\n",
              "      <td>3237.179932</td>\n",
              "      <td>3420380000</td>\n",
              "    </tr>\n",
              "    <tr>\n",
              "      <th>2020-01-08</th>\n",
              "      <td>3238.590088</td>\n",
              "      <td>3267.070068</td>\n",
              "      <td>3236.669922</td>\n",
              "      <td>3253.050049</td>\n",
              "      <td>3253.050049</td>\n",
              "      <td>3720890000</td>\n",
              "    </tr>\n",
              "    <tr>\n",
              "      <th>...</th>\n",
              "      <td>...</td>\n",
              "      <td>...</td>\n",
              "      <td>...</td>\n",
              "      <td>...</td>\n",
              "      <td>...</td>\n",
              "      <td>...</td>\n",
              "    </tr>\n",
              "    <tr>\n",
              "      <th>2020-12-24</th>\n",
              "      <td>3694.030029</td>\n",
              "      <td>3703.820068</td>\n",
              "      <td>3689.320068</td>\n",
              "      <td>3703.060059</td>\n",
              "      <td>3703.060059</td>\n",
              "      <td>1885090000</td>\n",
              "    </tr>\n",
              "    <tr>\n",
              "      <th>2020-12-28</th>\n",
              "      <td>3723.030029</td>\n",
              "      <td>3740.510010</td>\n",
              "      <td>3723.030029</td>\n",
              "      <td>3735.360107</td>\n",
              "      <td>3735.360107</td>\n",
              "      <td>3527460000</td>\n",
              "    </tr>\n",
              "    <tr>\n",
              "      <th>2020-12-29</th>\n",
              "      <td>3750.010010</td>\n",
              "      <td>3756.120117</td>\n",
              "      <td>3723.310059</td>\n",
              "      <td>3727.040039</td>\n",
              "      <td>3727.040039</td>\n",
              "      <td>3387030000</td>\n",
              "    </tr>\n",
              "    <tr>\n",
              "      <th>2020-12-30</th>\n",
              "      <td>3736.189941</td>\n",
              "      <td>3744.629883</td>\n",
              "      <td>3730.209961</td>\n",
              "      <td>3732.040039</td>\n",
              "      <td>3732.040039</td>\n",
              "      <td>3145200000</td>\n",
              "    </tr>\n",
              "    <tr>\n",
              "      <th>2020-12-31</th>\n",
              "      <td>3733.270020</td>\n",
              "      <td>3760.199951</td>\n",
              "      <td>3726.879883</td>\n",
              "      <td>3756.070068</td>\n",
              "      <td>3756.070068</td>\n",
              "      <td>3172510000</td>\n",
              "    </tr>\n",
              "  </tbody>\n",
              "</table>\n",
              "<p>253 rows × 6 columns</p>\n",
              "</div>"
            ],
            "text/plain": [
              "                   Open         High  ...    Adj Close      Volume\n",
              "Date                                  ...                         \n",
              "2020-01-02  3244.669922  3258.139893  ...  3257.850098  3458250000\n",
              "2020-01-03  3226.360107  3246.149902  ...  3234.850098  3461290000\n",
              "2020-01-06  3217.550049  3246.840088  ...  3246.280029  3674070000\n",
              "2020-01-07  3241.860107  3244.909912  ...  3237.179932  3420380000\n",
              "2020-01-08  3238.590088  3267.070068  ...  3253.050049  3720890000\n",
              "...                 ...          ...  ...          ...         ...\n",
              "2020-12-24  3694.030029  3703.820068  ...  3703.060059  1885090000\n",
              "2020-12-28  3723.030029  3740.510010  ...  3735.360107  3527460000\n",
              "2020-12-29  3750.010010  3756.120117  ...  3727.040039  3387030000\n",
              "2020-12-30  3736.189941  3744.629883  ...  3732.040039  3145200000\n",
              "2020-12-31  3733.270020  3760.199951  ...  3756.070068  3172510000\n",
              "\n",
              "[253 rows x 6 columns]"
            ]
          },
          "metadata": {
            "tags": []
          },
          "execution_count": 7
        }
      ]
    },
    {
      "cell_type": "markdown",
      "metadata": {
        "id": "3qKS7ilHeQie"
      },
      "source": [
        "##3. Análisis Técnico - Acción (TSLA) versus Mercado (S&P 500) "
      ]
    },
    {
      "cell_type": "code",
      "metadata": {
        "colab": {
          "base_uri": "https://localhost:8080/",
          "height": 450
        },
        "id": "m2cmv6M_efzZ",
        "outputId": "29ce318d-20a4-46c1-911b-658135d4fa02"
      },
      "source": [
        "df['Close_100'] = 100*df['Close']/df['Close'][0]\n",
        "df"
      ],
      "execution_count": null,
      "outputs": [
        {
          "output_type": "execute_result",
          "data": {
            "text/html": [
              "<div>\n",
              "<style scoped>\n",
              "    .dataframe tbody tr th:only-of-type {\n",
              "        vertical-align: middle;\n",
              "    }\n",
              "\n",
              "    .dataframe tbody tr th {\n",
              "        vertical-align: top;\n",
              "    }\n",
              "\n",
              "    .dataframe thead th {\n",
              "        text-align: right;\n",
              "    }\n",
              "</style>\n",
              "<table border=\"1\" class=\"dataframe\">\n",
              "  <thead>\n",
              "    <tr style=\"text-align: right;\">\n",
              "      <th></th>\n",
              "      <th>Open</th>\n",
              "      <th>High</th>\n",
              "      <th>Low</th>\n",
              "      <th>Close</th>\n",
              "      <th>Adj Close</th>\n",
              "      <th>Volume</th>\n",
              "      <th>Close_100</th>\n",
              "    </tr>\n",
              "    <tr>\n",
              "      <th>Date</th>\n",
              "      <th></th>\n",
              "      <th></th>\n",
              "      <th></th>\n",
              "      <th></th>\n",
              "      <th></th>\n",
              "      <th></th>\n",
              "      <th></th>\n",
              "    </tr>\n",
              "  </thead>\n",
              "  <tbody>\n",
              "    <tr>\n",
              "      <th>2020-01-02</th>\n",
              "      <td>84.900002</td>\n",
              "      <td>86.139999</td>\n",
              "      <td>84.342003</td>\n",
              "      <td>86.052002</td>\n",
              "      <td>86.052002</td>\n",
              "      <td>47660500</td>\n",
              "      <td>100.000000</td>\n",
              "    </tr>\n",
              "    <tr>\n",
              "      <th>2020-01-03</th>\n",
              "      <td>88.099998</td>\n",
              "      <td>90.800003</td>\n",
              "      <td>87.384003</td>\n",
              "      <td>88.601997</td>\n",
              "      <td>88.601997</td>\n",
              "      <td>88892500</td>\n",
              "      <td>102.963319</td>\n",
              "    </tr>\n",
              "    <tr>\n",
              "      <th>2020-01-06</th>\n",
              "      <td>88.094002</td>\n",
              "      <td>90.311996</td>\n",
              "      <td>88.000000</td>\n",
              "      <td>90.307999</td>\n",
              "      <td>90.307999</td>\n",
              "      <td>50665000</td>\n",
              "      <td>104.945843</td>\n",
              "    </tr>\n",
              "    <tr>\n",
              "      <th>2020-01-07</th>\n",
              "      <td>92.279999</td>\n",
              "      <td>94.325996</td>\n",
              "      <td>90.671997</td>\n",
              "      <td>93.811996</td>\n",
              "      <td>93.811996</td>\n",
              "      <td>89410500</td>\n",
              "      <td>109.017797</td>\n",
              "    </tr>\n",
              "    <tr>\n",
              "      <th>2020-01-08</th>\n",
              "      <td>94.739998</td>\n",
              "      <td>99.697998</td>\n",
              "      <td>93.646004</td>\n",
              "      <td>98.428001</td>\n",
              "      <td>98.428001</td>\n",
              "      <td>155721500</td>\n",
              "      <td>114.382001</td>\n",
              "    </tr>\n",
              "    <tr>\n",
              "      <th>...</th>\n",
              "      <td>...</td>\n",
              "      <td>...</td>\n",
              "      <td>...</td>\n",
              "      <td>...</td>\n",
              "      <td>...</td>\n",
              "      <td>...</td>\n",
              "      <td>...</td>\n",
              "    </tr>\n",
              "    <tr>\n",
              "      <th>2020-12-24</th>\n",
              "      <td>642.989990</td>\n",
              "      <td>666.090027</td>\n",
              "      <td>641.000000</td>\n",
              "      <td>661.770020</td>\n",
              "      <td>661.770020</td>\n",
              "      <td>22865600</td>\n",
              "      <td>769.035007</td>\n",
              "    </tr>\n",
              "    <tr>\n",
              "      <th>2020-12-28</th>\n",
              "      <td>674.510010</td>\n",
              "      <td>681.400024</td>\n",
              "      <td>660.799988</td>\n",
              "      <td>663.690002</td>\n",
              "      <td>663.690002</td>\n",
              "      <td>32278600</td>\n",
              "      <td>771.266196</td>\n",
              "    </tr>\n",
              "    <tr>\n",
              "      <th>2020-12-29</th>\n",
              "      <td>661.000000</td>\n",
              "      <td>669.900024</td>\n",
              "      <td>655.000000</td>\n",
              "      <td>665.989990</td>\n",
              "      <td>665.989990</td>\n",
              "      <td>22910800</td>\n",
              "      <td>773.938985</td>\n",
              "    </tr>\n",
              "    <tr>\n",
              "      <th>2020-12-30</th>\n",
              "      <td>672.000000</td>\n",
              "      <td>696.599976</td>\n",
              "      <td>668.359985</td>\n",
              "      <td>694.780029</td>\n",
              "      <td>694.780029</td>\n",
              "      <td>42846000</td>\n",
              "      <td>807.395544</td>\n",
              "    </tr>\n",
              "    <tr>\n",
              "      <th>2020-12-31</th>\n",
              "      <td>699.989990</td>\n",
              "      <td>718.719971</td>\n",
              "      <td>691.119995</td>\n",
              "      <td>705.669983</td>\n",
              "      <td>705.669983</td>\n",
              "      <td>49649900</td>\n",
              "      <td>820.050629</td>\n",
              "    </tr>\n",
              "  </tbody>\n",
              "</table>\n",
              "<p>253 rows × 7 columns</p>\n",
              "</div>"
            ],
            "text/plain": [
              "                  Open        High  ...     Volume   Close_100\n",
              "Date                                ...                       \n",
              "2020-01-02   84.900002   86.139999  ...   47660500  100.000000\n",
              "2020-01-03   88.099998   90.800003  ...   88892500  102.963319\n",
              "2020-01-06   88.094002   90.311996  ...   50665000  104.945843\n",
              "2020-01-07   92.279999   94.325996  ...   89410500  109.017797\n",
              "2020-01-08   94.739998   99.697998  ...  155721500  114.382001\n",
              "...                ...         ...  ...        ...         ...\n",
              "2020-12-24  642.989990  666.090027  ...   22865600  769.035007\n",
              "2020-12-28  674.510010  681.400024  ...   32278600  771.266196\n",
              "2020-12-29  661.000000  669.900024  ...   22910800  773.938985\n",
              "2020-12-30  672.000000  696.599976  ...   42846000  807.395544\n",
              "2020-12-31  699.989990  718.719971  ...   49649900  820.050629\n",
              "\n",
              "[253 rows x 7 columns]"
            ]
          },
          "metadata": {
            "tags": []
          },
          "execution_count": 8
        }
      ]
    },
    {
      "cell_type": "code",
      "metadata": {
        "colab": {
          "base_uri": "https://localhost:8080/",
          "height": 450
        },
        "id": "uKBpIriRer5d",
        "outputId": "f21716dd-aa49-4af3-b4d5-59122cebb388"
      },
      "source": [
        "df2['Close_100'] = 100*df2['Close']/df2['Close'][0]\n",
        "df2"
      ],
      "execution_count": null,
      "outputs": [
        {
          "output_type": "execute_result",
          "data": {
            "text/html": [
              "<div>\n",
              "<style scoped>\n",
              "    .dataframe tbody tr th:only-of-type {\n",
              "        vertical-align: middle;\n",
              "    }\n",
              "\n",
              "    .dataframe tbody tr th {\n",
              "        vertical-align: top;\n",
              "    }\n",
              "\n",
              "    .dataframe thead th {\n",
              "        text-align: right;\n",
              "    }\n",
              "</style>\n",
              "<table border=\"1\" class=\"dataframe\">\n",
              "  <thead>\n",
              "    <tr style=\"text-align: right;\">\n",
              "      <th></th>\n",
              "      <th>Open</th>\n",
              "      <th>High</th>\n",
              "      <th>Low</th>\n",
              "      <th>Close</th>\n",
              "      <th>Adj Close</th>\n",
              "      <th>Volume</th>\n",
              "      <th>Close_100</th>\n",
              "    </tr>\n",
              "    <tr>\n",
              "      <th>Date</th>\n",
              "      <th></th>\n",
              "      <th></th>\n",
              "      <th></th>\n",
              "      <th></th>\n",
              "      <th></th>\n",
              "      <th></th>\n",
              "      <th></th>\n",
              "    </tr>\n",
              "  </thead>\n",
              "  <tbody>\n",
              "    <tr>\n",
              "      <th>2020-01-02</th>\n",
              "      <td>3244.669922</td>\n",
              "      <td>3258.139893</td>\n",
              "      <td>3235.530029</td>\n",
              "      <td>3257.850098</td>\n",
              "      <td>3257.850098</td>\n",
              "      <td>3458250000</td>\n",
              "      <td>100.000000</td>\n",
              "    </tr>\n",
              "    <tr>\n",
              "      <th>2020-01-03</th>\n",
              "      <td>3226.360107</td>\n",
              "      <td>3246.149902</td>\n",
              "      <td>3222.340088</td>\n",
              "      <td>3234.850098</td>\n",
              "      <td>3234.850098</td>\n",
              "      <td>3461290000</td>\n",
              "      <td>99.294013</td>\n",
              "    </tr>\n",
              "    <tr>\n",
              "      <th>2020-01-06</th>\n",
              "      <td>3217.550049</td>\n",
              "      <td>3246.840088</td>\n",
              "      <td>3214.639893</td>\n",
              "      <td>3246.280029</td>\n",
              "      <td>3246.280029</td>\n",
              "      <td>3674070000</td>\n",
              "      <td>99.644856</td>\n",
              "    </tr>\n",
              "    <tr>\n",
              "      <th>2020-01-07</th>\n",
              "      <td>3241.860107</td>\n",
              "      <td>3244.909912</td>\n",
              "      <td>3232.429932</td>\n",
              "      <td>3237.179932</td>\n",
              "      <td>3237.179932</td>\n",
              "      <td>3420380000</td>\n",
              "      <td>99.365527</td>\n",
              "    </tr>\n",
              "    <tr>\n",
              "      <th>2020-01-08</th>\n",
              "      <td>3238.590088</td>\n",
              "      <td>3267.070068</td>\n",
              "      <td>3236.669922</td>\n",
              "      <td>3253.050049</td>\n",
              "      <td>3253.050049</td>\n",
              "      <td>3720890000</td>\n",
              "      <td>99.852662</td>\n",
              "    </tr>\n",
              "    <tr>\n",
              "      <th>...</th>\n",
              "      <td>...</td>\n",
              "      <td>...</td>\n",
              "      <td>...</td>\n",
              "      <td>...</td>\n",
              "      <td>...</td>\n",
              "      <td>...</td>\n",
              "      <td>...</td>\n",
              "    </tr>\n",
              "    <tr>\n",
              "      <th>2020-12-24</th>\n",
              "      <td>3694.030029</td>\n",
              "      <td>3703.820068</td>\n",
              "      <td>3689.320068</td>\n",
              "      <td>3703.060059</td>\n",
              "      <td>3703.060059</td>\n",
              "      <td>1885090000</td>\n",
              "      <td>113.665760</td>\n",
              "    </tr>\n",
              "    <tr>\n",
              "      <th>2020-12-28</th>\n",
              "      <td>3723.030029</td>\n",
              "      <td>3740.510010</td>\n",
              "      <td>3723.030029</td>\n",
              "      <td>3735.360107</td>\n",
              "      <td>3735.360107</td>\n",
              "      <td>3527460000</td>\n",
              "      <td>114.657212</td>\n",
              "    </tr>\n",
              "    <tr>\n",
              "      <th>2020-12-29</th>\n",
              "      <td>3750.010010</td>\n",
              "      <td>3756.120117</td>\n",
              "      <td>3723.310059</td>\n",
              "      <td>3727.040039</td>\n",
              "      <td>3727.040039</td>\n",
              "      <td>3387030000</td>\n",
              "      <td>114.401827</td>\n",
              "    </tr>\n",
              "    <tr>\n",
              "      <th>2020-12-30</th>\n",
              "      <td>3736.189941</td>\n",
              "      <td>3744.629883</td>\n",
              "      <td>3730.209961</td>\n",
              "      <td>3732.040039</td>\n",
              "      <td>3732.040039</td>\n",
              "      <td>3145200000</td>\n",
              "      <td>114.555303</td>\n",
              "    </tr>\n",
              "    <tr>\n",
              "      <th>2020-12-31</th>\n",
              "      <td>3733.270020</td>\n",
              "      <td>3760.199951</td>\n",
              "      <td>3726.879883</td>\n",
              "      <td>3756.070068</td>\n",
              "      <td>3756.070068</td>\n",
              "      <td>3172510000</td>\n",
              "      <td>115.292907</td>\n",
              "    </tr>\n",
              "  </tbody>\n",
              "</table>\n",
              "<p>253 rows × 7 columns</p>\n",
              "</div>"
            ],
            "text/plain": [
              "                   Open         High  ...      Volume   Close_100\n",
              "Date                                  ...                        \n",
              "2020-01-02  3244.669922  3258.139893  ...  3458250000  100.000000\n",
              "2020-01-03  3226.360107  3246.149902  ...  3461290000   99.294013\n",
              "2020-01-06  3217.550049  3246.840088  ...  3674070000   99.644856\n",
              "2020-01-07  3241.860107  3244.909912  ...  3420380000   99.365527\n",
              "2020-01-08  3238.590088  3267.070068  ...  3720890000   99.852662\n",
              "...                 ...          ...  ...         ...         ...\n",
              "2020-12-24  3694.030029  3703.820068  ...  1885090000  113.665760\n",
              "2020-12-28  3723.030029  3740.510010  ...  3527460000  114.657212\n",
              "2020-12-29  3750.010010  3756.120117  ...  3387030000  114.401827\n",
              "2020-12-30  3736.189941  3744.629883  ...  3145200000  114.555303\n",
              "2020-12-31  3733.270020  3760.199951  ...  3172510000  115.292907\n",
              "\n",
              "[253 rows x 7 columns]"
            ]
          },
          "metadata": {
            "tags": []
          },
          "execution_count": 9
        }
      ]
    },
    {
      "cell_type": "code",
      "metadata": {
        "colab": {
          "base_uri": "https://localhost:8080/",
          "height": 513
        },
        "id": "dz6jFECPexE2",
        "outputId": "1b0f771e-0c5a-4d9c-f331-1346c083e356"
      },
      "source": [
        "plt.figure(figsize=(16,8))\n",
        "plt.title ('Tesla Versus Mercado')\n",
        "plt.plot(df['Close_100'], color='red')\n",
        "plt.plot(df2['Close_100'], color='blue')\n",
        "plt.xlabel('Fecha')\n",
        "plt.ylabel('Index (2020-01-02: 100)')\n",
        "plt.legend(['Tesla', 'S&P 500 500'],loc='lower right',)\n",
        "plt.show()"
      ],
      "execution_count": null,
      "outputs": [
        {
          "output_type": "display_data",
          "data": {
            "image/png": "[encoded data removed]",
            "text/plain": [
              "<Figure size 1152x576 with 1 Axes>"
            ]
          },
          "metadata": {
            "tags": [],
            "needs_background": "light"
          }
        }
      ]
    },
    {
      "cell_type": "markdown",
      "metadata": {
        "id": "UunnZSSZe72G"
      },
      "source": [
        "## 4. Análisis Técnico - Velas Japonesas"
      ]
    },
    {
      "cell_type": "markdown",
      "metadata": {
        "id": "07OgKZ3Qf40C"
      },
      "source": [
        "https://pypi.org/project/mplfinance/"
      ]
    },
    {
      "cell_type": "code",
      "metadata": {
        "id": "BVFNCO77Cxlk",
        "colab": {
          "base_uri": "https://localhost:8080/"
        },
        "outputId": "abd67373-880e-43fc-f093-36a0111e0875"
      },
      "source": [
        "pip install mplfinance"
      ],
      "execution_count": null,
      "outputs": [
        {
          "output_type": "stream",
          "text": [
            "Collecting mplfinance\n",
            "  Downloading mplfinance-0.12.7a17-py3-none-any.whl (62 kB)\n",
            "\u001b[?25l\r\u001b[K     |█████▎                          | 10 kB 28.0 MB/s eta 0:00:01\r\u001b[K     |██████████▌                     | 20 kB 22.4 MB/s eta 0:00:01\r\u001b[K     |███████████████▊                | 30 kB 16.0 MB/s eta 0:00:01\r\u001b[K     |█████████████████████           | 40 kB 14.8 MB/s eta 0:00:01\r\u001b[K     |██████████████████████████▎     | 51 kB 5.3 MB/s eta 0:00:01\r\u001b[K     |███████████████████████████████▌| 61 kB 5.7 MB/s eta 0:00:01\r\u001b[K     |████████████████████████████████| 62 kB 829 kB/s \n",
            "\u001b[?25hRequirement already satisfied: pandas in /usr/local/lib/python3.7/dist-packages (from mplfinance) (1.1.5)\n",
            "Requirement already satisfied: matplotlib in /usr/local/lib/python3.7/dist-packages (from mplfinance) (3.2.2)\n",
            "Requirement already satisfied: python-dateutil>=2.1 in /usr/local/lib/python3.7/dist-packages (from matplotlib->mplfinance) (2.8.1)\n",
            "Requirement already satisfied: pyparsing!=2.0.4,!=2.1.2,!=2.1.6,>=2.0.1 in /usr/local/lib/python3.7/dist-packages (from matplotlib->mplfinance) (2.4.7)\n",
            "Requirement already satisfied: cycler>=0.10 in /usr/local/lib/python3.7/dist-packages (from matplotlib->mplfinance) (0.10.0)\n",
            "Requirement already satisfied: kiwisolver>=1.0.1 in /usr/local/lib/python3.7/dist-packages (from matplotlib->mplfinance) (1.3.1)\n",
            "Requirement already satisfied: numpy>=1.11 in /usr/local/lib/python3.7/dist-packages (from matplotlib->mplfinance) (1.19.5)\n",
            "Requirement already satisfied: six in /usr/local/lib/python3.7/dist-packages (from cycler>=0.10->matplotlib->mplfinance) (1.15.0)\n",
            "Requirement already satisfied: pytz>=2017.2 in /usr/local/lib/python3.7/dist-packages (from pandas->mplfinance) (2018.9)\n",
            "Installing collected packages: mplfinance\n",
            "Successfully installed mplfinance-0.12.7a17\n"
          ],
          "name": "stdout"
        }
      ]
    },
    {
      "cell_type": "code",
      "metadata": {
        "id": "N85fug6ce7Zx"
      },
      "source": [
        "# Importar libreria de mplfinance\n",
        "import mplfinance as mpf"
      ],
      "execution_count": null,
      "outputs": []
    },
    {
      "cell_type": "code",
      "metadata": {
        "colab": {
          "base_uri": "https://localhost:8080/",
          "height": 516
        },
        "id": "WvxYBywqBkKb",
        "outputId": "856ec18f-f7de-490c-f137-ed2394e71aab"
      },
      "source": [
        "mpf.plot(df[-21:],\n",
        "         type='candle',\n",
        "         volume=True,\n",
        "         figratio=(16,8),\n",
        "         style='yahoo',\n",
        "         title='Tesla',\n",
        "         mav=(10, 20))"
      ],
      "execution_count": null,
      "outputs": [
        {
          "output_type": "display_data",
          "data": {
            "image/png": "[encoded data removed]",
            "text/plain": [
              "<Figure size 1150x575 with 4 Axes>"
            ]
          },
          "metadata": {
            "tags": []
          }
        }
      ]
    },
    {
      "cell_type": "code",
      "metadata": {
        "colab": {
          "base_uri": "https://localhost:8080/",
          "height": 516
        },
        "id": "EOCXkJNnDRow",
        "outputId": "62c6cb92-0c22-4ed8-8ace-60fa0c8fcdc5"
      },
      "source": [
        "mpf.plot(df[-42:],\n",
        "         hlines=dict(hlines=[500, 600],colors=['red','green'],linestyle='-.'),\n",
        "         type='candle', \n",
        "         volume=True, \n",
        "         figratio=(16, 8), \n",
        "         style='yahoo', \n",
        "         title='Tesla')"
      ],
      "execution_count": null,
      "outputs": [
        {
          "output_type": "display_data",
          "data": {
            "image/png": "[encoded data removed]",
            "text/plain": [
              "<Figure size 1150x575 with 4 Axes>"
            ]
          },
          "metadata": {
            "tags": []
          }
        }
      ]
    },
    {
      "cell_type": "code",
      "metadata": {
        "colab": {
          "base_uri": "https://localhost:8080/",
          "height": 562
        },
        "id": "EpN0WzNPCCxg",
        "outputId": "0a4df838-47b2-48f1-db2f-efaa0458b346"
      },
      "source": [
        "mpf.plot(df,hlines=dict(hlines=[80,200,330,500],colors=['red','green','red','green'],linestyle='-.'),type='candle',volume=True, figratio=(16, 8), style='yahoo', title='Tesla')"
      ],
      "execution_count": null,
      "outputs": [
        {
          "output_type": "display_data",
          "data": {
            "image/png": "[encoded data removed]",
            "text/plain": [
              "<Figure size 1150x575 with 4 Axes>"
            ]
          },
          "metadata": {
            "tags": []
          }
        }
      ]
    }
  ]
}