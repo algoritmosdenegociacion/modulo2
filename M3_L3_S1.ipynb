{
  "nbformat": 4,
  "nbformat_minor": 0,
  "metadata": {
    "colab": {
      "name": "M3-L3-S1.ipynb",
      "provenance": [],
      "include_colab_link": true
    },
    "kernelspec": {
      "name": "python3",
      "display_name": "Python 3"
    },
    "language_info": {
      "name": "python"
    }
  },
  "cells": [
    {
      "cell_type": "markdown",
      "metadata": {
        "id": "view-in-github",
        "colab_type": "text"
      },
      "source": [
        "<a href=\"https://colab.research.google.com/github/algoritmosdenegociacion/modulo2/blob/main/M3_L3_S1.ipynb\" target=\"_parent\"><img src=\"https://colab.research.google.com/assets/colab-badge.svg\" alt=\"Open In Colab\"/></a>"
      ]
    },
    {
      "cell_type": "code",
      "metadata": {
        "id": "OmtHXGg9afSW"
      },
      "source": [
        ""
      ],
      "execution_count": null,
      "outputs": []
    },
    {
      "cell_type": "markdown",
      "metadata": {
        "id": "HDMUuXGmB_q1"
      },
      "source": [
        "# Algoritmos de Negociación basados en Machine Learning - Módulo 3\n",
        "- Sergio Andrés Cabrales, Ph.D., Universidad de los Andes \n",
        "- Juan Pablo Cortés, T.A., Universidad de los Andes\n",
        "- Juan David Pava\n",
        "\n",
        "https://github.com/algoritmosdenegociacion/"
      ]
    },
    {
      "cell_type": "markdown",
      "metadata": {
        "id": "CSr9zTNECaPv"
      },
      "source": [
        "## 1. Carga de librerías, funciones y APIs necesarias.\n"
      ]
    },
    {
      "cell_type": "markdown",
      "metadata": {
        "id": "6zaoGOtoCjPq"
      },
      "source": [
        "#### 1.1. Se cargan las librerías necesarias"
      ]
    },
    {
      "cell_type": "code",
      "metadata": {
        "id": "-QQfbsMyM7mS",
        "colab": {
          "base_uri": "https://localhost:8080/"
        },
        "outputId": "35915678-1351-44b8-bd69-3eab42532a7c"
      },
      "source": [
        "pip install yfinance"
      ],
      "execution_count": null,
      "outputs": [
        {
          "output_type": "stream",
          "name": "stdout",
          "text": [
            "Collecting yfinance\n",
            "  Downloading yfinance-0.1.63.tar.gz (26 kB)\n",
            "Requirement already satisfied: pandas>=0.24 in /usr/local/lib/python3.7/dist-packages (from yfinance) (1.1.5)\n",
            "Requirement already satisfied: numpy>=1.15 in /usr/local/lib/python3.7/dist-packages (from yfinance) (1.19.5)\n",
            "Requirement already satisfied: requests>=2.20 in /usr/local/lib/python3.7/dist-packages (from yfinance) (2.23.0)\n",
            "Requirement already satisfied: multitasking>=0.0.7 in /usr/local/lib/python3.7/dist-packages (from yfinance) (0.0.9)\n",
            "Collecting lxml>=4.5.1\n",
            "  Downloading lxml-4.6.3-cp37-cp37m-manylinux2014_x86_64.whl (6.3 MB)\n",
            "\u001b[K     |████████████████████████████████| 6.3 MB 31.5 MB/s \n",
            "\u001b[?25hRequirement already satisfied: pytz>=2017.2 in /usr/local/lib/python3.7/dist-packages (from pandas>=0.24->yfinance) (2018.9)\n",
            "Requirement already satisfied: python-dateutil>=2.7.3 in /usr/local/lib/python3.7/dist-packages (from pandas>=0.24->yfinance) (2.8.2)\n",
            "Requirement already satisfied: six>=1.5 in /usr/local/lib/python3.7/dist-packages (from python-dateutil>=2.7.3->pandas>=0.24->yfinance) (1.15.0)\n",
            "Requirement already satisfied: certifi>=2017.4.17 in /usr/local/lib/python3.7/dist-packages (from requests>=2.20->yfinance) (2021.5.30)\n",
            "Requirement already satisfied: chardet<4,>=3.0.2 in /usr/local/lib/python3.7/dist-packages (from requests>=2.20->yfinance) (3.0.4)\n",
            "Requirement already satisfied: idna<3,>=2.5 in /usr/local/lib/python3.7/dist-packages (from requests>=2.20->yfinance) (2.10)\n",
            "Requirement already satisfied: urllib3!=1.25.0,!=1.25.1,<1.26,>=1.21.1 in /usr/local/lib/python3.7/dist-packages (from requests>=2.20->yfinance) (1.24.3)\n",
            "Building wheels for collected packages: yfinance\n",
            "  Building wheel for yfinance (setup.py) ... \u001b[?25l\u001b[?25hdone\n",
            "  Created wheel for yfinance: filename=yfinance-0.1.63-py2.py3-none-any.whl size=23918 sha256=ee5d3eda21ef222cb1a3eea7e96fe4da287be4fb2ac8ccf4889796c2ed37d087\n",
            "  Stored in directory: /root/.cache/pip/wheels/fe/87/8b/7ec24486e001d3926537f5f7801f57a74d181be25b11157983\n",
            "Successfully built yfinance\n",
            "Installing collected packages: lxml, yfinance\n",
            "  Attempting uninstall: lxml\n",
            "    Found existing installation: lxml 4.2.6\n",
            "    Uninstalling lxml-4.2.6:\n",
            "      Successfully uninstalled lxml-4.2.6\n",
            "Successfully installed lxml-4.6.3 yfinance-0.1.63\n"
          ]
        }
      ]
    },
    {
      "cell_type": "code",
      "metadata": {
        "id": "cVO4GoZZCgc8"
      },
      "source": [
        "# Funciones numéricas adicionales\n",
        "import numpy as np\n",
        "\n",
        "# Lectura de datos y manejo de Data-sets\n",
        "import pandas as pd\n",
        "\n",
        "# Datos\n",
        "import yfinance as yfin\n",
        "\n",
        "# Gráficos \n",
        "import matplotlib.pyplot as plt"
      ],
      "execution_count": null,
      "outputs": []
    },
    {
      "cell_type": "markdown",
      "metadata": {
        "id": "xLSEaV4vCacK"
      },
      "source": [
        "## 2. Obtención de datos históricos\n"
      ]
    },
    {
      "cell_type": "markdown",
      "metadata": {
        "id": "MwlYyvstUo32"
      },
      "source": [
        "#### 2.1. Se cargan los datos \n"
      ]
    },
    {
      "cell_type": "code",
      "metadata": {
        "colab": {
          "base_uri": "https://localhost:8080/",
          "height": 469
        },
        "id": "dzncNzy8CacL",
        "outputId": "b21a9081-60cf-48e0-e07f-4c91195fdc3c"
      },
      "source": [
        "# Descargamos datos\n",
        "df = yfin.download('AMZN', data_source='yahoo',start='2020-01-01', end='2021-01-01')\n",
        "df"
      ],
      "execution_count": null,
      "outputs": [
        {
          "output_type": "stream",
          "name": "stdout",
          "text": [
            "\r[*********************100%***********************]  1 of 1 completed\n"
          ]
        },
        {
          "output_type": "execute_result",
          "data": {
            "text/html": [
              "<div>\n",
              "<style scoped>\n",
              "    .dataframe tbody tr th:only-of-type {\n",
              "        vertical-align: middle;\n",
              "    }\n",
              "\n",
              "    .dataframe tbody tr th {\n",
              "        vertical-align: top;\n",
              "    }\n",
              "\n",
              "    .dataframe thead th {\n",
              "        text-align: right;\n",
              "    }\n",
              "</style>\n",
              "<table border=\"1\" class=\"dataframe\">\n",
              "  <thead>\n",
              "    <tr style=\"text-align: right;\">\n",
              "      <th></th>\n",
              "      <th>Open</th>\n",
              "      <th>High</th>\n",
              "      <th>Low</th>\n",
              "      <th>Close</th>\n",
              "      <th>Adj Close</th>\n",
              "      <th>Volume</th>\n",
              "    </tr>\n",
              "    <tr>\n",
              "      <th>Date</th>\n",
              "      <th></th>\n",
              "      <th></th>\n",
              "      <th></th>\n",
              "      <th></th>\n",
              "      <th></th>\n",
              "      <th></th>\n",
              "    </tr>\n",
              "  </thead>\n",
              "  <tbody>\n",
              "    <tr>\n",
              "      <th>2020-01-02</th>\n",
              "      <td>1875.000000</td>\n",
              "      <td>1898.010010</td>\n",
              "      <td>1864.150024</td>\n",
              "      <td>1898.010010</td>\n",
              "      <td>1898.010010</td>\n",
              "      <td>4029000</td>\n",
              "    </tr>\n",
              "    <tr>\n",
              "      <th>2020-01-03</th>\n",
              "      <td>1864.500000</td>\n",
              "      <td>1886.199951</td>\n",
              "      <td>1864.500000</td>\n",
              "      <td>1874.969971</td>\n",
              "      <td>1874.969971</td>\n",
              "      <td>3764400</td>\n",
              "    </tr>\n",
              "    <tr>\n",
              "      <th>2020-01-06</th>\n",
              "      <td>1860.000000</td>\n",
              "      <td>1903.689941</td>\n",
              "      <td>1860.000000</td>\n",
              "      <td>1902.880005</td>\n",
              "      <td>1902.880005</td>\n",
              "      <td>4061800</td>\n",
              "    </tr>\n",
              "    <tr>\n",
              "      <th>2020-01-07</th>\n",
              "      <td>1904.500000</td>\n",
              "      <td>1913.890015</td>\n",
              "      <td>1892.040039</td>\n",
              "      <td>1906.859985</td>\n",
              "      <td>1906.859985</td>\n",
              "      <td>4044900</td>\n",
              "    </tr>\n",
              "    <tr>\n",
              "      <th>2020-01-08</th>\n",
              "      <td>1898.040039</td>\n",
              "      <td>1911.000000</td>\n",
              "      <td>1886.439941</td>\n",
              "      <td>1891.969971</td>\n",
              "      <td>1891.969971</td>\n",
              "      <td>3508000</td>\n",
              "    </tr>\n",
              "    <tr>\n",
              "      <th>...</th>\n",
              "      <td>...</td>\n",
              "      <td>...</td>\n",
              "      <td>...</td>\n",
              "      <td>...</td>\n",
              "      <td>...</td>\n",
              "      <td>...</td>\n",
              "    </tr>\n",
              "    <tr>\n",
              "      <th>2020-12-24</th>\n",
              "      <td>3193.899902</td>\n",
              "      <td>3202.000000</td>\n",
              "      <td>3169.000000</td>\n",
              "      <td>3172.689941</td>\n",
              "      <td>3172.689941</td>\n",
              "      <td>1451900</td>\n",
              "    </tr>\n",
              "    <tr>\n",
              "      <th>2020-12-28</th>\n",
              "      <td>3194.000000</td>\n",
              "      <td>3304.000000</td>\n",
              "      <td>3172.689941</td>\n",
              "      <td>3283.959961</td>\n",
              "      <td>3283.959961</td>\n",
              "      <td>5686800</td>\n",
              "    </tr>\n",
              "    <tr>\n",
              "      <th>2020-12-29</th>\n",
              "      <td>3309.939941</td>\n",
              "      <td>3350.649902</td>\n",
              "      <td>3281.219971</td>\n",
              "      <td>3322.000000</td>\n",
              "      <td>3322.000000</td>\n",
              "      <td>4872900</td>\n",
              "    </tr>\n",
              "    <tr>\n",
              "      <th>2020-12-30</th>\n",
              "      <td>3341.000000</td>\n",
              "      <td>3342.100098</td>\n",
              "      <td>3282.469971</td>\n",
              "      <td>3285.850098</td>\n",
              "      <td>3285.850098</td>\n",
              "      <td>3209300</td>\n",
              "    </tr>\n",
              "    <tr>\n",
              "      <th>2020-12-31</th>\n",
              "      <td>3275.000000</td>\n",
              "      <td>3282.919922</td>\n",
              "      <td>3241.199951</td>\n",
              "      <td>3256.929932</td>\n",
              "      <td>3256.929932</td>\n",
              "      <td>2957200</td>\n",
              "    </tr>\n",
              "  </tbody>\n",
              "</table>\n",
              "<p>253 rows × 6 columns</p>\n",
              "</div>"
            ],
            "text/plain": [
              "                   Open         High  ...    Adj Close   Volume\n",
              "Date                                  ...                      \n",
              "2020-01-02  1875.000000  1898.010010  ...  1898.010010  4029000\n",
              "2020-01-03  1864.500000  1886.199951  ...  1874.969971  3764400\n",
              "2020-01-06  1860.000000  1903.689941  ...  1902.880005  4061800\n",
              "2020-01-07  1904.500000  1913.890015  ...  1906.859985  4044900\n",
              "2020-01-08  1898.040039  1911.000000  ...  1891.969971  3508000\n",
              "...                 ...          ...  ...          ...      ...\n",
              "2020-12-24  3193.899902  3202.000000  ...  3172.689941  1451900\n",
              "2020-12-28  3194.000000  3304.000000  ...  3283.959961  5686800\n",
              "2020-12-29  3309.939941  3350.649902  ...  3322.000000  4872900\n",
              "2020-12-30  3341.000000  3342.100098  ...  3285.850098  3209300\n",
              "2020-12-31  3275.000000  3282.919922  ...  3256.929932  2957200\n",
              "\n",
              "[253 rows x 6 columns]"
            ]
          },
          "metadata": {},
          "execution_count": 5
        }
      ]
    },
    {
      "cell_type": "markdown",
      "metadata": {
        "id": "gtQQw1UDU8Rz"
      },
      "source": [
        "## 3. Calcular la media móvil exponencial (EMA)"
      ]
    },
    {
      "cell_type": "markdown",
      "metadata": {
        "id": "nhaz3owqFcwK"
      },
      "source": [
        "#### 3.1. Agregar al dataset las EMAs de 5 y 20 días"
      ]
    },
    {
      "cell_type": "code",
      "metadata": {
        "colab": {
          "base_uri": "https://localhost:8080/",
          "height": 452
        },
        "id": "zCO8cHZYPm_L",
        "outputId": "0ac04114-c79d-4738-a12c-9a6bcfd2598c"
      },
      "source": [
        "# media móvil exponencial (EMA) 5 días\n",
        "df['EMA_short'] = df['Close'].ewm(span=5, adjust=False).mean()\n",
        "\n",
        "# media móvil exponencial (EMA) 20 días\n",
        "df['EMA_long'] = df['Close'].ewm(span=20, adjust=False).mean()\n",
        "\n",
        "df"
      ],
      "execution_count": null,
      "outputs": [
        {
          "output_type": "execute_result",
          "data": {
            "text/html": [
              "<div>\n",
              "<style scoped>\n",
              "    .dataframe tbody tr th:only-of-type {\n",
              "        vertical-align: middle;\n",
              "    }\n",
              "\n",
              "    .dataframe tbody tr th {\n",
              "        vertical-align: top;\n",
              "    }\n",
              "\n",
              "    .dataframe thead th {\n",
              "        text-align: right;\n",
              "    }\n",
              "</style>\n",
              "<table border=\"1\" class=\"dataframe\">\n",
              "  <thead>\n",
              "    <tr style=\"text-align: right;\">\n",
              "      <th></th>\n",
              "      <th>Open</th>\n",
              "      <th>High</th>\n",
              "      <th>Low</th>\n",
              "      <th>Close</th>\n",
              "      <th>Adj Close</th>\n",
              "      <th>Volume</th>\n",
              "      <th>EMA_short</th>\n",
              "      <th>EMA_long</th>\n",
              "    </tr>\n",
              "    <tr>\n",
              "      <th>Date</th>\n",
              "      <th></th>\n",
              "      <th></th>\n",
              "      <th></th>\n",
              "      <th></th>\n",
              "      <th></th>\n",
              "      <th></th>\n",
              "      <th></th>\n",
              "      <th></th>\n",
              "    </tr>\n",
              "  </thead>\n",
              "  <tbody>\n",
              "    <tr>\n",
              "      <th>2020-01-02</th>\n",
              "      <td>1875.000000</td>\n",
              "      <td>1898.010010</td>\n",
              "      <td>1864.150024</td>\n",
              "      <td>1898.010010</td>\n",
              "      <td>1898.010010</td>\n",
              "      <td>4029000</td>\n",
              "      <td>1898.010010</td>\n",
              "      <td>1898.010010</td>\n",
              "    </tr>\n",
              "    <tr>\n",
              "      <th>2020-01-03</th>\n",
              "      <td>1864.500000</td>\n",
              "      <td>1886.199951</td>\n",
              "      <td>1864.500000</td>\n",
              "      <td>1874.969971</td>\n",
              "      <td>1874.969971</td>\n",
              "      <td>3764400</td>\n",
              "      <td>1890.329997</td>\n",
              "      <td>1895.815720</td>\n",
              "    </tr>\n",
              "    <tr>\n",
              "      <th>2020-01-06</th>\n",
              "      <td>1860.000000</td>\n",
              "      <td>1903.689941</td>\n",
              "      <td>1860.000000</td>\n",
              "      <td>1902.880005</td>\n",
              "      <td>1902.880005</td>\n",
              "      <td>4061800</td>\n",
              "      <td>1894.513333</td>\n",
              "      <td>1896.488509</td>\n",
              "    </tr>\n",
              "    <tr>\n",
              "      <th>2020-01-07</th>\n",
              "      <td>1904.500000</td>\n",
              "      <td>1913.890015</td>\n",
              "      <td>1892.040039</td>\n",
              "      <td>1906.859985</td>\n",
              "      <td>1906.859985</td>\n",
              "      <td>4044900</td>\n",
              "      <td>1898.628884</td>\n",
              "      <td>1897.476269</td>\n",
              "    </tr>\n",
              "    <tr>\n",
              "      <th>2020-01-08</th>\n",
              "      <td>1898.040039</td>\n",
              "      <td>1911.000000</td>\n",
              "      <td>1886.439941</td>\n",
              "      <td>1891.969971</td>\n",
              "      <td>1891.969971</td>\n",
              "      <td>3508000</td>\n",
              "      <td>1896.409246</td>\n",
              "      <td>1896.951860</td>\n",
              "    </tr>\n",
              "    <tr>\n",
              "      <th>...</th>\n",
              "      <td>...</td>\n",
              "      <td>...</td>\n",
              "      <td>...</td>\n",
              "      <td>...</td>\n",
              "      <td>...</td>\n",
              "      <td>...</td>\n",
              "      <td>...</td>\n",
              "      <td>...</td>\n",
              "    </tr>\n",
              "    <tr>\n",
              "      <th>2020-12-24</th>\n",
              "      <td>3193.899902</td>\n",
              "      <td>3202.000000</td>\n",
              "      <td>3169.000000</td>\n",
              "      <td>3172.689941</td>\n",
              "      <td>3172.689941</td>\n",
              "      <td>1451900</td>\n",
              "      <td>3188.985614</td>\n",
              "      <td>3177.657856</td>\n",
              "    </tr>\n",
              "    <tr>\n",
              "      <th>2020-12-28</th>\n",
              "      <td>3194.000000</td>\n",
              "      <td>3304.000000</td>\n",
              "      <td>3172.689941</td>\n",
              "      <td>3283.959961</td>\n",
              "      <td>3283.959961</td>\n",
              "      <td>5686800</td>\n",
              "      <td>3220.643730</td>\n",
              "      <td>3187.781866</td>\n",
              "    </tr>\n",
              "    <tr>\n",
              "      <th>2020-12-29</th>\n",
              "      <td>3309.939941</td>\n",
              "      <td>3350.649902</td>\n",
              "      <td>3281.219971</td>\n",
              "      <td>3322.000000</td>\n",
              "      <td>3322.000000</td>\n",
              "      <td>4872900</td>\n",
              "      <td>3254.429153</td>\n",
              "      <td>3200.564545</td>\n",
              "    </tr>\n",
              "    <tr>\n",
              "      <th>2020-12-30</th>\n",
              "      <td>3341.000000</td>\n",
              "      <td>3342.100098</td>\n",
              "      <td>3282.469971</td>\n",
              "      <td>3285.850098</td>\n",
              "      <td>3285.850098</td>\n",
              "      <td>3209300</td>\n",
              "      <td>3264.902801</td>\n",
              "      <td>3208.686979</td>\n",
              "    </tr>\n",
              "    <tr>\n",
              "      <th>2020-12-31</th>\n",
              "      <td>3275.000000</td>\n",
              "      <td>3282.919922</td>\n",
              "      <td>3241.199951</td>\n",
              "      <td>3256.929932</td>\n",
              "      <td>3256.929932</td>\n",
              "      <td>2957200</td>\n",
              "      <td>3262.245178</td>\n",
              "      <td>3213.281546</td>\n",
              "    </tr>\n",
              "  </tbody>\n",
              "</table>\n",
              "<p>253 rows × 8 columns</p>\n",
              "</div>"
            ],
            "text/plain": [
              "                   Open         High  ...    EMA_short     EMA_long\n",
              "Date                                  ...                          \n",
              "2020-01-02  1875.000000  1898.010010  ...  1898.010010  1898.010010\n",
              "2020-01-03  1864.500000  1886.199951  ...  1890.329997  1895.815720\n",
              "2020-01-06  1860.000000  1903.689941  ...  1894.513333  1896.488509\n",
              "2020-01-07  1904.500000  1913.890015  ...  1898.628884  1897.476269\n",
              "2020-01-08  1898.040039  1911.000000  ...  1896.409246  1896.951860\n",
              "...                 ...          ...  ...          ...          ...\n",
              "2020-12-24  3193.899902  3202.000000  ...  3188.985614  3177.657856\n",
              "2020-12-28  3194.000000  3304.000000  ...  3220.643730  3187.781866\n",
              "2020-12-29  3309.939941  3350.649902  ...  3254.429153  3200.564545\n",
              "2020-12-30  3341.000000  3342.100098  ...  3264.902801  3208.686979\n",
              "2020-12-31  3275.000000  3282.919922  ...  3262.245178  3213.281546\n",
              "\n",
              "[253 rows x 8 columns]"
            ]
          },
          "metadata": {},
          "execution_count": 6
        }
      ]
    },
    {
      "cell_type": "markdown",
      "metadata": {
        "id": "ct64DabuFq_A"
      },
      "source": [
        "#### 3.2. Gráfico de los precios y las EMAs"
      ]
    },
    {
      "cell_type": "code",
      "metadata": {
        "colab": {
          "base_uri": "https://localhost:8080/",
          "height": 513
        },
        "id": "tL0AOZ5bSXuv",
        "outputId": "21250dac-cd68-458f-a145-407e8b29a666"
      },
      "source": [
        "# Gráfico de la serie de precios y sus medias móviles exponenciales.\n",
        "plt.figure(figsize=(16,8))\n",
        "plt.title('TESLA, EMA-5 & EMA-20 days')\n",
        "plt.plot(df['Close'])\n",
        "plt.plot(df['EMA_short'], color='green', alpha=0.4)\n",
        "plt.plot(df['EMA_long'], color='red', alpha=0.4)\n",
        "plt.xlabel('Fecha')\n",
        "plt.ylabel('USD$/bbl')\n",
        "plt.legend(['Close', 'EMA_short', 'EMA_long'], loc = 'lower right')\n",
        "plt.show()"
      ],
      "execution_count": null,
      "outputs": [
        {
          "output_type": "display_data",
          "data": {
            "image/png": "[encoded data removed]",
            "text/plain": [
              "<Figure size 1152x576 with 1 Axes>"
            ]
          },
          "metadata": {
            "needs_background": "light"
          }
        }
      ]
    },
    {
      "cell_type": "markdown",
      "metadata": {
        "id": "5ZbTzdufVP7O"
      },
      "source": [
        "## 4. Obtención de señales de compra y venta"
      ]
    },
    {
      "cell_type": "markdown",
      "metadata": {
        "id": "lf9X8TsuFRd6"
      },
      "source": [
        "#### 4.1. Estrategia para obtener las señales"
      ]
    },
    {
      "cell_type": "code",
      "metadata": {
        "colab": {
          "base_uri": "https://localhost:8080/",
          "height": 452
        },
        "id": "Xa4Xuji_QBNk",
        "outputId": "604d6446-56de-4ee2-9364-8f3fba6dd9b4"
      },
      "source": [
        "# Número de datos\n",
        "N = len(df)\n",
        "\n",
        "# Crea una lista para almacenar las señales\n",
        "  # -1 vender\n",
        "  # 0 mantener\n",
        "  # 1 comprar\n",
        "signals = [0]\n",
        "\n",
        "# Recorre la ventana de tiempo a partir del día 1\n",
        "for i in range(1, N):\n",
        "\n",
        "  # Obtiene las medias móviles exponenciales del día i\n",
        "  short = df['EMA_short'][i]\n",
        "  long = df['EMA_long'][i]\n",
        "\n",
        "  # Obtiene las medias móviles exponenciales del día i-1\n",
        "  p_short = df['EMA_short'][i-1]\n",
        "  p_long = df['EMA_long'][i-1]\n",
        "\n",
        "  # Compruebe si la EMA a corto plazo cruza por encima de la EMA a largo plazo\n",
        "  if p_short < p_long and short >= long:\n",
        "    signals.append(1)\n",
        "\n",
        "  # Compruebe si la EMA a corto plazo cruza por debajo de la EMA a largo plazo\n",
        "  elif p_short > p_long and short <= long:\n",
        "    signals.append(-1)\n",
        "\n",
        "  # Cuando las medias móviles exponenciales no se cruzan\n",
        "  else:\n",
        "    signals.append(0)\n",
        "\n",
        "df['Signals'] = signals\n",
        "df"
      ],
      "execution_count": null,
      "outputs": [
        {
          "output_type": "execute_result",
          "data": {
            "text/html": [
              "<div>\n",
              "<style scoped>\n",
              "    .dataframe tbody tr th:only-of-type {\n",
              "        vertical-align: middle;\n",
              "    }\n",
              "\n",
              "    .dataframe tbody tr th {\n",
              "        vertical-align: top;\n",
              "    }\n",
              "\n",
              "    .dataframe thead th {\n",
              "        text-align: right;\n",
              "    }\n",
              "</style>\n",
              "<table border=\"1\" class=\"dataframe\">\n",
              "  <thead>\n",
              "    <tr style=\"text-align: right;\">\n",
              "      <th></th>\n",
              "      <th>Open</th>\n",
              "      <th>High</th>\n",
              "      <th>Low</th>\n",
              "      <th>Close</th>\n",
              "      <th>Adj Close</th>\n",
              "      <th>Volume</th>\n",
              "      <th>EMA_short</th>\n",
              "      <th>EMA_long</th>\n",
              "      <th>Signals</th>\n",
              "    </tr>\n",
              "    <tr>\n",
              "      <th>Date</th>\n",
              "      <th></th>\n",
              "      <th></th>\n",
              "      <th></th>\n",
              "      <th></th>\n",
              "      <th></th>\n",
              "      <th></th>\n",
              "      <th></th>\n",
              "      <th></th>\n",
              "      <th></th>\n",
              "    </tr>\n",
              "  </thead>\n",
              "  <tbody>\n",
              "    <tr>\n",
              "      <th>2020-01-02</th>\n",
              "      <td>1875.000000</td>\n",
              "      <td>1898.010010</td>\n",
              "      <td>1864.150024</td>\n",
              "      <td>1898.010010</td>\n",
              "      <td>1898.010010</td>\n",
              "      <td>4029000</td>\n",
              "      <td>1898.010010</td>\n",
              "      <td>1898.010010</td>\n",
              "      <td>0</td>\n",
              "    </tr>\n",
              "    <tr>\n",
              "      <th>2020-01-03</th>\n",
              "      <td>1864.500000</td>\n",
              "      <td>1886.199951</td>\n",
              "      <td>1864.500000</td>\n",
              "      <td>1874.969971</td>\n",
              "      <td>1874.969971</td>\n",
              "      <td>3764400</td>\n",
              "      <td>1890.329997</td>\n",
              "      <td>1895.815720</td>\n",
              "      <td>0</td>\n",
              "    </tr>\n",
              "    <tr>\n",
              "      <th>2020-01-06</th>\n",
              "      <td>1860.000000</td>\n",
              "      <td>1903.689941</td>\n",
              "      <td>1860.000000</td>\n",
              "      <td>1902.880005</td>\n",
              "      <td>1902.880005</td>\n",
              "      <td>4061800</td>\n",
              "      <td>1894.513333</td>\n",
              "      <td>1896.488509</td>\n",
              "      <td>0</td>\n",
              "    </tr>\n",
              "    <tr>\n",
              "      <th>2020-01-07</th>\n",
              "      <td>1904.500000</td>\n",
              "      <td>1913.890015</td>\n",
              "      <td>1892.040039</td>\n",
              "      <td>1906.859985</td>\n",
              "      <td>1906.859985</td>\n",
              "      <td>4044900</td>\n",
              "      <td>1898.628884</td>\n",
              "      <td>1897.476269</td>\n",
              "      <td>1</td>\n",
              "    </tr>\n",
              "    <tr>\n",
              "      <th>2020-01-08</th>\n",
              "      <td>1898.040039</td>\n",
              "      <td>1911.000000</td>\n",
              "      <td>1886.439941</td>\n",
              "      <td>1891.969971</td>\n",
              "      <td>1891.969971</td>\n",
              "      <td>3508000</td>\n",
              "      <td>1896.409246</td>\n",
              "      <td>1896.951860</td>\n",
              "      <td>-1</td>\n",
              "    </tr>\n",
              "    <tr>\n",
              "      <th>...</th>\n",
              "      <td>...</td>\n",
              "      <td>...</td>\n",
              "      <td>...</td>\n",
              "      <td>...</td>\n",
              "      <td>...</td>\n",
              "      <td>...</td>\n",
              "      <td>...</td>\n",
              "      <td>...</td>\n",
              "      <td>...</td>\n",
              "    </tr>\n",
              "    <tr>\n",
              "      <th>2020-12-24</th>\n",
              "      <td>3193.899902</td>\n",
              "      <td>3202.000000</td>\n",
              "      <td>3169.000000</td>\n",
              "      <td>3172.689941</td>\n",
              "      <td>3172.689941</td>\n",
              "      <td>1451900</td>\n",
              "      <td>3188.985614</td>\n",
              "      <td>3177.657856</td>\n",
              "      <td>0</td>\n",
              "    </tr>\n",
              "    <tr>\n",
              "      <th>2020-12-28</th>\n",
              "      <td>3194.000000</td>\n",
              "      <td>3304.000000</td>\n",
              "      <td>3172.689941</td>\n",
              "      <td>3283.959961</td>\n",
              "      <td>3283.959961</td>\n",
              "      <td>5686800</td>\n",
              "      <td>3220.643730</td>\n",
              "      <td>3187.781866</td>\n",
              "      <td>0</td>\n",
              "    </tr>\n",
              "    <tr>\n",
              "      <th>2020-12-29</th>\n",
              "      <td>3309.939941</td>\n",
              "      <td>3350.649902</td>\n",
              "      <td>3281.219971</td>\n",
              "      <td>3322.000000</td>\n",
              "      <td>3322.000000</td>\n",
              "      <td>4872900</td>\n",
              "      <td>3254.429153</td>\n",
              "      <td>3200.564545</td>\n",
              "      <td>0</td>\n",
              "    </tr>\n",
              "    <tr>\n",
              "      <th>2020-12-30</th>\n",
              "      <td>3341.000000</td>\n",
              "      <td>3342.100098</td>\n",
              "      <td>3282.469971</td>\n",
              "      <td>3285.850098</td>\n",
              "      <td>3285.850098</td>\n",
              "      <td>3209300</td>\n",
              "      <td>3264.902801</td>\n",
              "      <td>3208.686979</td>\n",
              "      <td>0</td>\n",
              "    </tr>\n",
              "    <tr>\n",
              "      <th>2020-12-31</th>\n",
              "      <td>3275.000000</td>\n",
              "      <td>3282.919922</td>\n",
              "      <td>3241.199951</td>\n",
              "      <td>3256.929932</td>\n",
              "      <td>3256.929932</td>\n",
              "      <td>2957200</td>\n",
              "      <td>3262.245178</td>\n",
              "      <td>3213.281546</td>\n",
              "      <td>0</td>\n",
              "    </tr>\n",
              "  </tbody>\n",
              "</table>\n",
              "<p>253 rows × 9 columns</p>\n",
              "</div>"
            ],
            "text/plain": [
              "                   Open         High  ...     EMA_long  Signals\n",
              "Date                                  ...                      \n",
              "2020-01-02  1875.000000  1898.010010  ...  1898.010010        0\n",
              "2020-01-03  1864.500000  1886.199951  ...  1895.815720        0\n",
              "2020-01-06  1860.000000  1903.689941  ...  1896.488509        0\n",
              "2020-01-07  1904.500000  1913.890015  ...  1897.476269        1\n",
              "2020-01-08  1898.040039  1911.000000  ...  1896.951860       -1\n",
              "...                 ...          ...  ...          ...      ...\n",
              "2020-12-24  3193.899902  3202.000000  ...  3177.657856        0\n",
              "2020-12-28  3194.000000  3304.000000  ...  3187.781866        0\n",
              "2020-12-29  3309.939941  3350.649902  ...  3200.564545        0\n",
              "2020-12-30  3341.000000  3342.100098  ...  3208.686979        0\n",
              "2020-12-31  3275.000000  3282.919922  ...  3213.281546        0\n",
              "\n",
              "[253 rows x 9 columns]"
            ]
          },
          "metadata": {},
          "execution_count": 8
        }
      ]
    },
    {
      "cell_type": "markdown",
      "metadata": {
        "id": "z4Ml-E95F95i"
      },
      "source": [
        "#### 4.2. Gráfico de las señales de trading"
      ]
    },
    {
      "cell_type": "code",
      "metadata": {
        "colab": {
          "base_uri": "https://localhost:8080/",
          "height": 452
        },
        "id": "lZF1JkRBGE6B",
        "outputId": "6a2bba37-8b0b-48af-ced2-e26443f86a4f"
      },
      "source": [
        "df['Buy'] = np.where(df['Signals']==1, df['Close'], np.nan)\n",
        "df['Sell'] = np.where(df['Signals']==-1, df['Close'], np.nan)\n",
        "df"
      ],
      "execution_count": null,
      "outputs": [
        {
          "output_type": "execute_result",
          "data": {
            "text/html": [
              "<div>\n",
              "<style scoped>\n",
              "    .dataframe tbody tr th:only-of-type {\n",
              "        vertical-align: middle;\n",
              "    }\n",
              "\n",
              "    .dataframe tbody tr th {\n",
              "        vertical-align: top;\n",
              "    }\n",
              "\n",
              "    .dataframe thead th {\n",
              "        text-align: right;\n",
              "    }\n",
              "</style>\n",
              "<table border=\"1\" class=\"dataframe\">\n",
              "  <thead>\n",
              "    <tr style=\"text-align: right;\">\n",
              "      <th></th>\n",
              "      <th>Open</th>\n",
              "      <th>High</th>\n",
              "      <th>Low</th>\n",
              "      <th>Close</th>\n",
              "      <th>Adj Close</th>\n",
              "      <th>Volume</th>\n",
              "      <th>EMA_short</th>\n",
              "      <th>EMA_long</th>\n",
              "      <th>Signals</th>\n",
              "      <th>Buy</th>\n",
              "      <th>Sell</th>\n",
              "    </tr>\n",
              "    <tr>\n",
              "      <th>Date</th>\n",
              "      <th></th>\n",
              "      <th></th>\n",
              "      <th></th>\n",
              "      <th></th>\n",
              "      <th></th>\n",
              "      <th></th>\n",
              "      <th></th>\n",
              "      <th></th>\n",
              "      <th></th>\n",
              "      <th></th>\n",
              "      <th></th>\n",
              "    </tr>\n",
              "  </thead>\n",
              "  <tbody>\n",
              "    <tr>\n",
              "      <th>2020-01-02</th>\n",
              "      <td>1875.000000</td>\n",
              "      <td>1898.010010</td>\n",
              "      <td>1864.150024</td>\n",
              "      <td>1898.010010</td>\n",
              "      <td>1898.010010</td>\n",
              "      <td>4029000</td>\n",
              "      <td>1898.010010</td>\n",
              "      <td>1898.010010</td>\n",
              "      <td>0</td>\n",
              "      <td>NaN</td>\n",
              "      <td>NaN</td>\n",
              "    </tr>\n",
              "    <tr>\n",
              "      <th>2020-01-03</th>\n",
              "      <td>1864.500000</td>\n",
              "      <td>1886.199951</td>\n",
              "      <td>1864.500000</td>\n",
              "      <td>1874.969971</td>\n",
              "      <td>1874.969971</td>\n",
              "      <td>3764400</td>\n",
              "      <td>1890.329997</td>\n",
              "      <td>1895.815720</td>\n",
              "      <td>0</td>\n",
              "      <td>NaN</td>\n",
              "      <td>NaN</td>\n",
              "    </tr>\n",
              "    <tr>\n",
              "      <th>2020-01-06</th>\n",
              "      <td>1860.000000</td>\n",
              "      <td>1903.689941</td>\n",
              "      <td>1860.000000</td>\n",
              "      <td>1902.880005</td>\n",
              "      <td>1902.880005</td>\n",
              "      <td>4061800</td>\n",
              "      <td>1894.513333</td>\n",
              "      <td>1896.488509</td>\n",
              "      <td>0</td>\n",
              "      <td>NaN</td>\n",
              "      <td>NaN</td>\n",
              "    </tr>\n",
              "    <tr>\n",
              "      <th>2020-01-07</th>\n",
              "      <td>1904.500000</td>\n",
              "      <td>1913.890015</td>\n",
              "      <td>1892.040039</td>\n",
              "      <td>1906.859985</td>\n",
              "      <td>1906.859985</td>\n",
              "      <td>4044900</td>\n",
              "      <td>1898.628884</td>\n",
              "      <td>1897.476269</td>\n",
              "      <td>1</td>\n",
              "      <td>1906.859985</td>\n",
              "      <td>NaN</td>\n",
              "    </tr>\n",
              "    <tr>\n",
              "      <th>2020-01-08</th>\n",
              "      <td>1898.040039</td>\n",
              "      <td>1911.000000</td>\n",
              "      <td>1886.439941</td>\n",
              "      <td>1891.969971</td>\n",
              "      <td>1891.969971</td>\n",
              "      <td>3508000</td>\n",
              "      <td>1896.409246</td>\n",
              "      <td>1896.951860</td>\n",
              "      <td>-1</td>\n",
              "      <td>NaN</td>\n",
              "      <td>1891.969971</td>\n",
              "    </tr>\n",
              "    <tr>\n",
              "      <th>...</th>\n",
              "      <td>...</td>\n",
              "      <td>...</td>\n",
              "      <td>...</td>\n",
              "      <td>...</td>\n",
              "      <td>...</td>\n",
              "      <td>...</td>\n",
              "      <td>...</td>\n",
              "      <td>...</td>\n",
              "      <td>...</td>\n",
              "      <td>...</td>\n",
              "      <td>...</td>\n",
              "    </tr>\n",
              "    <tr>\n",
              "      <th>2020-12-24</th>\n",
              "      <td>3193.899902</td>\n",
              "      <td>3202.000000</td>\n",
              "      <td>3169.000000</td>\n",
              "      <td>3172.689941</td>\n",
              "      <td>3172.689941</td>\n",
              "      <td>1451900</td>\n",
              "      <td>3188.985614</td>\n",
              "      <td>3177.657856</td>\n",
              "      <td>0</td>\n",
              "      <td>NaN</td>\n",
              "      <td>NaN</td>\n",
              "    </tr>\n",
              "    <tr>\n",
              "      <th>2020-12-28</th>\n",
              "      <td>3194.000000</td>\n",
              "      <td>3304.000000</td>\n",
              "      <td>3172.689941</td>\n",
              "      <td>3283.959961</td>\n",
              "      <td>3283.959961</td>\n",
              "      <td>5686800</td>\n",
              "      <td>3220.643730</td>\n",
              "      <td>3187.781866</td>\n",
              "      <td>0</td>\n",
              "      <td>NaN</td>\n",
              "      <td>NaN</td>\n",
              "    </tr>\n",
              "    <tr>\n",
              "      <th>2020-12-29</th>\n",
              "      <td>3309.939941</td>\n",
              "      <td>3350.649902</td>\n",
              "      <td>3281.219971</td>\n",
              "      <td>3322.000000</td>\n",
              "      <td>3322.000000</td>\n",
              "      <td>4872900</td>\n",
              "      <td>3254.429153</td>\n",
              "      <td>3200.564545</td>\n",
              "      <td>0</td>\n",
              "      <td>NaN</td>\n",
              "      <td>NaN</td>\n",
              "    </tr>\n",
              "    <tr>\n",
              "      <th>2020-12-30</th>\n",
              "      <td>3341.000000</td>\n",
              "      <td>3342.100098</td>\n",
              "      <td>3282.469971</td>\n",
              "      <td>3285.850098</td>\n",
              "      <td>3285.850098</td>\n",
              "      <td>3209300</td>\n",
              "      <td>3264.902801</td>\n",
              "      <td>3208.686979</td>\n",
              "      <td>0</td>\n",
              "      <td>NaN</td>\n",
              "      <td>NaN</td>\n",
              "    </tr>\n",
              "    <tr>\n",
              "      <th>2020-12-31</th>\n",
              "      <td>3275.000000</td>\n",
              "      <td>3282.919922</td>\n",
              "      <td>3241.199951</td>\n",
              "      <td>3256.929932</td>\n",
              "      <td>3256.929932</td>\n",
              "      <td>2957200</td>\n",
              "      <td>3262.245178</td>\n",
              "      <td>3213.281546</td>\n",
              "      <td>0</td>\n",
              "      <td>NaN</td>\n",
              "      <td>NaN</td>\n",
              "    </tr>\n",
              "  </tbody>\n",
              "</table>\n",
              "<p>253 rows × 11 columns</p>\n",
              "</div>"
            ],
            "text/plain": [
              "                   Open         High  ...          Buy         Sell\n",
              "Date                                  ...                          \n",
              "2020-01-02  1875.000000  1898.010010  ...          NaN          NaN\n",
              "2020-01-03  1864.500000  1886.199951  ...          NaN          NaN\n",
              "2020-01-06  1860.000000  1903.689941  ...          NaN          NaN\n",
              "2020-01-07  1904.500000  1913.890015  ...  1906.859985          NaN\n",
              "2020-01-08  1898.040039  1911.000000  ...          NaN  1891.969971\n",
              "...                 ...          ...  ...          ...          ...\n",
              "2020-12-24  3193.899902  3202.000000  ...          NaN          NaN\n",
              "2020-12-28  3194.000000  3304.000000  ...          NaN          NaN\n",
              "2020-12-29  3309.939941  3350.649902  ...          NaN          NaN\n",
              "2020-12-30  3341.000000  3342.100098  ...          NaN          NaN\n",
              "2020-12-31  3275.000000  3282.919922  ...          NaN          NaN\n",
              "\n",
              "[253 rows x 11 columns]"
            ]
          },
          "metadata": {},
          "execution_count": 9
        }
      ]
    },
    {
      "cell_type": "code",
      "metadata": {
        "colab": {
          "base_uri": "https://localhost:8080/",
          "height": 513
        },
        "id": "0bhHqVTdPljP",
        "outputId": "d7099d56-17ab-48d4-bdb3-f4d44b52b94a"
      },
      "source": [
        "# Mostrar visualmente las señales de compra y venta de acciones\n",
        "plt.figure(figsize=(16,8))\n",
        "plt.plot(df['Close'], alpha = 0.4, label = 'Precios')\n",
        "\n",
        "plt.scatter(df.index, df['Buy'], color='green', marker='^', label = 'Compra')\n",
        "plt.scatter(df.index, df['Sell'], color = 'red', marker='v', label = 'Venta')\n",
        "\n",
        "plt.title('Señales de compra y venta, EMA-5 & EMA-20')\n",
        "plt.xlabel('Fecha')\n",
        "plt.ylabel('Precio USD/bbl')\n",
        "plt.legend(loc='upper left')\n",
        "plt.show()"
      ],
      "execution_count": null,
      "outputs": [
        {
          "output_type": "display_data",
          "data": {
            "image/png": "[encoded data removed]",
            "text/plain": [
              "<Figure size 1152x576 with 1 Axes>"
            ]
          },
          "metadata": {
            "needs_background": "light"
          }
        }
      ]
    },
    {
      "cell_type": "code",
      "metadata": {
        "colab": {
          "base_uri": "https://localhost:8080/"
        },
        "id": "gsQ7rVXpe8c-",
        "outputId": "ea662bb8-f8af-4593-c519-c70e2fae9d85"
      },
      "source": [
        "\n",
        "df['Buy'].count()"
      ],
      "execution_count": null,
      "outputs": [
        {
          "output_type": "execute_result",
          "data": {
            "text/plain": [
              "10"
            ]
          },
          "metadata": {},
          "execution_count": 12
        }
      ]
    },
    {
      "cell_type": "code",
      "metadata": {
        "colab": {
          "base_uri": "https://localhost:8080/"
        },
        "id": "liLP_1g9fDUT",
        "outputId": "a23bfb33-2280-43d3-b63d-372f6b527cca"
      },
      "source": [
        "df['Sell'].count()\n"
      ],
      "execution_count": null,
      "outputs": [
        {
          "output_type": "execute_result",
          "data": {
            "text/plain": [
              "9"
            ]
          },
          "metadata": {},
          "execution_count": 13
        }
      ]
    },
    {
      "cell_type": "markdown",
      "metadata": {
        "id": "3C7R7OdiGbca"
      },
      "source": [
        "## 5. Backtesting - Calcular el desempeño de una estrategia"
      ]
    },
    {
      "cell_type": "markdown",
      "metadata": {
        "id": "zZCmMnZ4Zv9p"
      },
      "source": [
        "#### 5.1. Cálculo de capital a lo largo de la venta de tiempo"
      ]
    },
    {
      "cell_type": "code",
      "metadata": {
        "id": "On59u_WhGYY_"
      },
      "source": [
        "# Número de datos\n",
        "N = len(df)\n",
        "\n",
        "# Crea una lista para almacenar el capital\n",
        "# Emezamos con 100 USD\n",
        "equity = [100]\n",
        "\n",
        "# Take Profit al 3% y Stop Loss al 1%\n",
        "TP = 0.04\n",
        "SL = 0.01\n",
        "\n",
        "pos = 0\n",
        "price = -1\n",
        "\n",
        "# Recorre la ventana de tiempo a partir del día 1\n",
        "for i in range(1, N):\n",
        "  \n",
        "  equity.append( equity[i-1] )\n",
        "\n",
        "  if pos == 1:\n",
        "    \n",
        "    if df['Close'][i] >= price*(1 + TP):\n",
        "      equity[i] *= 1 + TP\n",
        "      pos = 0\n",
        "    \n",
        "    elif df['Close'][i] <= price*(1 - SL):\n",
        "      equity[i] *= 1 - SL\n",
        "      pos = 0\n",
        "\n",
        "  elif pos == -1:\n",
        "\n",
        "    if df['Close'][i] <= price*(1 - TP):\n",
        "      equity[i] *= 1 + TP\n",
        "      pos = 0\n",
        "    \n",
        "    elif df['Close'][i] >= price*(1 + SL):\n",
        "      equity[i] *= 1 - SL\n",
        "      pos = 0\n",
        "\n",
        "  else:\n",
        "\n",
        "    if df['Signals'][i] != 0:\n",
        "      pos = df['Signals'][i]\n",
        "      price = df['Close'][i]\n",
        "\n",
        "df['Equity'] = equity\n"
      ],
      "execution_count": null,
      "outputs": []
    },
    {
      "cell_type": "markdown",
      "metadata": {
        "id": "x4KTqWfiZ4Tx"
      },
      "source": [
        "#### 5.2. Gráfico del capital"
      ]
    },
    {
      "cell_type": "code",
      "metadata": {
        "colab": {
          "base_uri": "https://localhost:8080/",
          "height": 513
        },
        "id": "77mvALXgVWJ9",
        "outputId": "28ae1a70-e244-4a3f-a8aa-680d63ca5ee8"
      },
      "source": [
        "# Mostrar visualmente el equity a lo largo de la ventana de tiempo\n",
        "plt.figure(figsize=(16,8))\n",
        "plt.plot(df['Equity'])\n",
        "\n",
        "plt.title('Capital - Estrategia de medias móviles exponenciales')\n",
        "plt.xlabel('Fecha')\n",
        "plt.ylabel('USD ($)')\n",
        "plt.show()"
      ],
      "execution_count": null,
      "outputs": [
        {
          "output_type": "display_data",
          "data": {
            "image/png": "[encoded data removed]",
            "text/plain": [
              "<Figure size 1152x576 with 1 Axes>"
            ]
          },
          "metadata": {
            "needs_background": "light"
          }
        }
      ]
    },
    {
      "cell_type": "markdown",
      "metadata": {
        "id": "BOW_qn-eaCAc"
      },
      "source": [
        "#### 5.3. Comparación con un portafolio de mercado"
      ]
    },
    {
      "cell_type": "code",
      "metadata": {
        "colab": {
          "base_uri": "https://localhost:8080/",
          "height": 469
        },
        "id": "BFfct0RpaLif",
        "outputId": "ffd75c14-42a7-40bc-b0eb-84bd8a34abac"
      },
      "source": [
        "mkt = yfin.download('^GSPC', start='2020-01-01', end='2021-01-01')\n",
        "mkt"
      ],
      "execution_count": null,
      "outputs": [
        {
          "output_type": "stream",
          "name": "stdout",
          "text": [
            "\r[*********************100%***********************]  1 of 1 completed\n"
          ]
        },
        {
          "output_type": "execute_result",
          "data": {
            "text/html": [
              "<div>\n",
              "<style scoped>\n",
              "    .dataframe tbody tr th:only-of-type {\n",
              "        vertical-align: middle;\n",
              "    }\n",
              "\n",
              "    .dataframe tbody tr th {\n",
              "        vertical-align: top;\n",
              "    }\n",
              "\n",
              "    .dataframe thead th {\n",
              "        text-align: right;\n",
              "    }\n",
              "</style>\n",
              "<table border=\"1\" class=\"dataframe\">\n",
              "  <thead>\n",
              "    <tr style=\"text-align: right;\">\n",
              "      <th></th>\n",
              "      <th>Open</th>\n",
              "      <th>High</th>\n",
              "      <th>Low</th>\n",
              "      <th>Close</th>\n",
              "      <th>Adj Close</th>\n",
              "      <th>Volume</th>\n",
              "    </tr>\n",
              "    <tr>\n",
              "      <th>Date</th>\n",
              "      <th></th>\n",
              "      <th></th>\n",
              "      <th></th>\n",
              "      <th></th>\n",
              "      <th></th>\n",
              "      <th></th>\n",
              "    </tr>\n",
              "  </thead>\n",
              "  <tbody>\n",
              "    <tr>\n",
              "      <th>2020-01-02</th>\n",
              "      <td>3244.669922</td>\n",
              "      <td>3258.139893</td>\n",
              "      <td>3235.530029</td>\n",
              "      <td>3257.850098</td>\n",
              "      <td>3257.850098</td>\n",
              "      <td>3458250000</td>\n",
              "    </tr>\n",
              "    <tr>\n",
              "      <th>2020-01-03</th>\n",
              "      <td>3226.360107</td>\n",
              "      <td>3246.149902</td>\n",
              "      <td>3222.340088</td>\n",
              "      <td>3234.850098</td>\n",
              "      <td>3234.850098</td>\n",
              "      <td>3461290000</td>\n",
              "    </tr>\n",
              "    <tr>\n",
              "      <th>2020-01-06</th>\n",
              "      <td>3217.550049</td>\n",
              "      <td>3246.840088</td>\n",
              "      <td>3214.639893</td>\n",
              "      <td>3246.280029</td>\n",
              "      <td>3246.280029</td>\n",
              "      <td>3674070000</td>\n",
              "    </tr>\n",
              "    <tr>\n",
              "      <th>2020-01-07</th>\n",
              "      <td>3241.860107</td>\n",
              "      <td>3244.909912</td>\n",
              "      <td>3232.429932</td>\n",
              "      <td>3237.179932</td>\n",
              "      <td>3237.179932</td>\n",
              "      <td>3420380000</td>\n",
              "    </tr>\n",
              "    <tr>\n",
              "      <th>2020-01-08</th>\n",
              "      <td>3238.590088</td>\n",
              "      <td>3267.070068</td>\n",
              "      <td>3236.669922</td>\n",
              "      <td>3253.050049</td>\n",
              "      <td>3253.050049</td>\n",
              "      <td>3720890000</td>\n",
              "    </tr>\n",
              "    <tr>\n",
              "      <th>...</th>\n",
              "      <td>...</td>\n",
              "      <td>...</td>\n",
              "      <td>...</td>\n",
              "      <td>...</td>\n",
              "      <td>...</td>\n",
              "      <td>...</td>\n",
              "    </tr>\n",
              "    <tr>\n",
              "      <th>2020-12-24</th>\n",
              "      <td>3694.030029</td>\n",
              "      <td>3703.820068</td>\n",
              "      <td>3689.320068</td>\n",
              "      <td>3703.060059</td>\n",
              "      <td>3703.060059</td>\n",
              "      <td>1885090000</td>\n",
              "    </tr>\n",
              "    <tr>\n",
              "      <th>2020-12-28</th>\n",
              "      <td>3723.030029</td>\n",
              "      <td>3740.510010</td>\n",
              "      <td>3723.030029</td>\n",
              "      <td>3735.360107</td>\n",
              "      <td>3735.360107</td>\n",
              "      <td>3527460000</td>\n",
              "    </tr>\n",
              "    <tr>\n",
              "      <th>2020-12-29</th>\n",
              "      <td>3750.010010</td>\n",
              "      <td>3756.120117</td>\n",
              "      <td>3723.310059</td>\n",
              "      <td>3727.040039</td>\n",
              "      <td>3727.040039</td>\n",
              "      <td>3387030000</td>\n",
              "    </tr>\n",
              "    <tr>\n",
              "      <th>2020-12-30</th>\n",
              "      <td>3736.189941</td>\n",
              "      <td>3744.629883</td>\n",
              "      <td>3730.209961</td>\n",
              "      <td>3732.040039</td>\n",
              "      <td>3732.040039</td>\n",
              "      <td>3145200000</td>\n",
              "    </tr>\n",
              "    <tr>\n",
              "      <th>2020-12-31</th>\n",
              "      <td>3733.270020</td>\n",
              "      <td>3760.199951</td>\n",
              "      <td>3726.879883</td>\n",
              "      <td>3756.070068</td>\n",
              "      <td>3756.070068</td>\n",
              "      <td>3172510000</td>\n",
              "    </tr>\n",
              "  </tbody>\n",
              "</table>\n",
              "<p>253 rows × 6 columns</p>\n",
              "</div>"
            ],
            "text/plain": [
              "                   Open         High  ...    Adj Close      Volume\n",
              "Date                                  ...                         \n",
              "2020-01-02  3244.669922  3258.139893  ...  3257.850098  3458250000\n",
              "2020-01-03  3226.360107  3246.149902  ...  3234.850098  3461290000\n",
              "2020-01-06  3217.550049  3246.840088  ...  3246.280029  3674070000\n",
              "2020-01-07  3241.860107  3244.909912  ...  3237.179932  3420380000\n",
              "2020-01-08  3238.590088  3267.070068  ...  3253.050049  3720890000\n",
              "...                 ...          ...  ...          ...         ...\n",
              "2020-12-24  3694.030029  3703.820068  ...  3703.060059  1885090000\n",
              "2020-12-28  3723.030029  3740.510010  ...  3735.360107  3527460000\n",
              "2020-12-29  3750.010010  3756.120117  ...  3727.040039  3387030000\n",
              "2020-12-30  3736.189941  3744.629883  ...  3732.040039  3145200000\n",
              "2020-12-31  3733.270020  3760.199951  ...  3756.070068  3172510000\n",
              "\n",
              "[253 rows x 6 columns]"
            ]
          },
          "metadata": {},
          "execution_count": 16
        }
      ]
    },
    {
      "cell_type": "code",
      "metadata": {
        "colab": {
          "base_uri": "https://localhost:8080/",
          "height": 452
        },
        "id": "Eu10Ha0eaLgY",
        "outputId": "b0f92065-7b8e-4a94-8467-d7762ecd27d9"
      },
      "source": [
        "mkt['Close_100'] = (100/mkt['Close'][0])*mkt['Close']\n",
        "mkt"
      ],
      "execution_count": null,
      "outputs": [
        {
          "output_type": "execute_result",
          "data": {
            "text/html": [
              "<div>\n",
              "<style scoped>\n",
              "    .dataframe tbody tr th:only-of-type {\n",
              "        vertical-align: middle;\n",
              "    }\n",
              "\n",
              "    .dataframe tbody tr th {\n",
              "        vertical-align: top;\n",
              "    }\n",
              "\n",
              "    .dataframe thead th {\n",
              "        text-align: right;\n",
              "    }\n",
              "</style>\n",
              "<table border=\"1\" class=\"dataframe\">\n",
              "  <thead>\n",
              "    <tr style=\"text-align: right;\">\n",
              "      <th></th>\n",
              "      <th>Open</th>\n",
              "      <th>High</th>\n",
              "      <th>Low</th>\n",
              "      <th>Close</th>\n",
              "      <th>Adj Close</th>\n",
              "      <th>Volume</th>\n",
              "      <th>Close_100</th>\n",
              "    </tr>\n",
              "    <tr>\n",
              "      <th>Date</th>\n",
              "      <th></th>\n",
              "      <th></th>\n",
              "      <th></th>\n",
              "      <th></th>\n",
              "      <th></th>\n",
              "      <th></th>\n",
              "      <th></th>\n",
              "    </tr>\n",
              "  </thead>\n",
              "  <tbody>\n",
              "    <tr>\n",
              "      <th>2020-01-02</th>\n",
              "      <td>3244.669922</td>\n",
              "      <td>3258.139893</td>\n",
              "      <td>3235.530029</td>\n",
              "      <td>3257.850098</td>\n",
              "      <td>3257.850098</td>\n",
              "      <td>3458250000</td>\n",
              "      <td>100.000000</td>\n",
              "    </tr>\n",
              "    <tr>\n",
              "      <th>2020-01-03</th>\n",
              "      <td>3226.360107</td>\n",
              "      <td>3246.149902</td>\n",
              "      <td>3222.340088</td>\n",
              "      <td>3234.850098</td>\n",
              "      <td>3234.850098</td>\n",
              "      <td>3461290000</td>\n",
              "      <td>99.294013</td>\n",
              "    </tr>\n",
              "    <tr>\n",
              "      <th>2020-01-06</th>\n",
              "      <td>3217.550049</td>\n",
              "      <td>3246.840088</td>\n",
              "      <td>3214.639893</td>\n",
              "      <td>3246.280029</td>\n",
              "      <td>3246.280029</td>\n",
              "      <td>3674070000</td>\n",
              "      <td>99.644856</td>\n",
              "    </tr>\n",
              "    <tr>\n",
              "      <th>2020-01-07</th>\n",
              "      <td>3241.860107</td>\n",
              "      <td>3244.909912</td>\n",
              "      <td>3232.429932</td>\n",
              "      <td>3237.179932</td>\n",
              "      <td>3237.179932</td>\n",
              "      <td>3420380000</td>\n",
              "      <td>99.365527</td>\n",
              "    </tr>\n",
              "    <tr>\n",
              "      <th>2020-01-08</th>\n",
              "      <td>3238.590088</td>\n",
              "      <td>3267.070068</td>\n",
              "      <td>3236.669922</td>\n",
              "      <td>3253.050049</td>\n",
              "      <td>3253.050049</td>\n",
              "      <td>3720890000</td>\n",
              "      <td>99.852662</td>\n",
              "    </tr>\n",
              "    <tr>\n",
              "      <th>...</th>\n",
              "      <td>...</td>\n",
              "      <td>...</td>\n",
              "      <td>...</td>\n",
              "      <td>...</td>\n",
              "      <td>...</td>\n",
              "      <td>...</td>\n",
              "      <td>...</td>\n",
              "    </tr>\n",
              "    <tr>\n",
              "      <th>2020-12-24</th>\n",
              "      <td>3694.030029</td>\n",
              "      <td>3703.820068</td>\n",
              "      <td>3689.320068</td>\n",
              "      <td>3703.060059</td>\n",
              "      <td>3703.060059</td>\n",
              "      <td>1885090000</td>\n",
              "      <td>113.665760</td>\n",
              "    </tr>\n",
              "    <tr>\n",
              "      <th>2020-12-28</th>\n",
              "      <td>3723.030029</td>\n",
              "      <td>3740.510010</td>\n",
              "      <td>3723.030029</td>\n",
              "      <td>3735.360107</td>\n",
              "      <td>3735.360107</td>\n",
              "      <td>3527460000</td>\n",
              "      <td>114.657212</td>\n",
              "    </tr>\n",
              "    <tr>\n",
              "      <th>2020-12-29</th>\n",
              "      <td>3750.010010</td>\n",
              "      <td>3756.120117</td>\n",
              "      <td>3723.310059</td>\n",
              "      <td>3727.040039</td>\n",
              "      <td>3727.040039</td>\n",
              "      <td>3387030000</td>\n",
              "      <td>114.401827</td>\n",
              "    </tr>\n",
              "    <tr>\n",
              "      <th>2020-12-30</th>\n",
              "      <td>3736.189941</td>\n",
              "      <td>3744.629883</td>\n",
              "      <td>3730.209961</td>\n",
              "      <td>3732.040039</td>\n",
              "      <td>3732.040039</td>\n",
              "      <td>3145200000</td>\n",
              "      <td>114.555303</td>\n",
              "    </tr>\n",
              "    <tr>\n",
              "      <th>2020-12-31</th>\n",
              "      <td>3733.270020</td>\n",
              "      <td>3760.199951</td>\n",
              "      <td>3726.879883</td>\n",
              "      <td>3756.070068</td>\n",
              "      <td>3756.070068</td>\n",
              "      <td>3172510000</td>\n",
              "      <td>115.292907</td>\n",
              "    </tr>\n",
              "  </tbody>\n",
              "</table>\n",
              "<p>253 rows × 7 columns</p>\n",
              "</div>"
            ],
            "text/plain": [
              "                   Open         High  ...      Volume   Close_100\n",
              "Date                                  ...                        \n",
              "2020-01-02  3244.669922  3258.139893  ...  3458250000  100.000000\n",
              "2020-01-03  3226.360107  3246.149902  ...  3461290000   99.294013\n",
              "2020-01-06  3217.550049  3246.840088  ...  3674070000   99.644856\n",
              "2020-01-07  3241.860107  3244.909912  ...  3420380000   99.365527\n",
              "2020-01-08  3238.590088  3267.070068  ...  3720890000   99.852662\n",
              "...                 ...          ...  ...         ...         ...\n",
              "2020-12-24  3694.030029  3703.820068  ...  1885090000  113.665760\n",
              "2020-12-28  3723.030029  3740.510010  ...  3527460000  114.657212\n",
              "2020-12-29  3750.010010  3756.120117  ...  3387030000  114.401827\n",
              "2020-12-30  3736.189941  3744.629883  ...  3145200000  114.555303\n",
              "2020-12-31  3733.270020  3760.199951  ...  3172510000  115.292907\n",
              "\n",
              "[253 rows x 7 columns]"
            ]
          },
          "metadata": {},
          "execution_count": 17
        }
      ]
    },
    {
      "cell_type": "code",
      "metadata": {
        "colab": {
          "base_uri": "https://localhost:8080/",
          "height": 513
        },
        "id": "QcPVCBSUbZCj",
        "outputId": "4d4530c6-7308-4c1f-ea8b-67fc19491eed"
      },
      "source": [
        "# Comparación de la estrategia con el portafolio de mercado\n",
        "plt.figure(figsize=(16,8))\n",
        "plt.plot(df['Equity'], color = 'green', label = 'Estrategia de trading')\n",
        "plt.plot(mkt['Close_100'], color = 'red', label = 'Portafolio de mercado')\n",
        "\n",
        "plt.title('Comparación de la estrategia con el portafolio de mercado')\n",
        "plt.xlabel('Fecha')\n",
        "plt.ylabel('Index (100)')\n",
        "plt.legend(loc='lower right')\n",
        "plt.show()"
      ],
      "execution_count": null,
      "outputs": [
        {
          "output_type": "display_data",
          "data": {
            "image/png": "[encoded data removed]",
            "text/plain": [
              "<Figure size 1152x576 with 1 Axes>"
            ]
          },
          "metadata": {
            "needs_background": "light"
          }
        }
      ]
    },
    {
      "cell_type": "code",
      "metadata": {
        "colab": {
          "base_uri": "https://localhost:8080/"
        },
        "id": "IOPBWPCGc6aL",
        "outputId": "316fe065-d53d-487d-974c-d8f9d50cdd43"
      },
      "source": [
        "# Desempeño de la estrategia planteada\n",
        "df['Log Returns'] = np.log(df['Equity']).diff()\n",
        "\n",
        "ret = 252*df['Log Returns'].mean()\n",
        "print('Retorno esperado anulizado: {:.4f}'.format(ret))\n",
        "\n",
        "vol = np.sqrt(252)*df['Log Returns'].std()\n",
        "print('Volatilidad anulizada: {:.4f}'.format(vol))\n",
        "\n",
        "sharpe_ratio = (ret - 0.01)/vol\n",
        "print('Sharpe Ratio: {:.4f}'.format(sharpe_ratio))"
      ],
      "execution_count": null,
      "outputs": [
        {
          "output_type": "stream",
          "name": "stdout",
          "text": [
            "Retorno esperado anulizado: 0.0071\n",
            "Volatilidad anulizada: 0.0758\n",
            "Sharpe Ratio: -0.0381\n"
          ]
        }
      ]
    },
    {
      "cell_type": "code",
      "metadata": {
        "colab": {
          "base_uri": "https://localhost:8080/"
        },
        "id": "taXd72Ghc6Pt",
        "outputId": "531394eb-2517-4f1d-f04f-9f0f01ded1ae"
      },
      "source": [
        "# Desempeño del portafolio de mercado\n",
        "mkt['Log Returns'] = np.log(mkt['Close']).diff()\n",
        "\n",
        "ret = 252*mkt['Log Returns'].mean()\n",
        "print('Retorno esperado anulizado: {:.4f}'.format(ret))\n",
        "\n",
        "vol = np.sqrt(252)*mkt['Log Returns'].std()\n",
        "print('Volatilidad anulizada: {:.4f}'.format(vol))\n",
        "\n",
        "sharpe_ratio = (ret - 0.01)/vol\n",
        "print('Sharpe Ratio: {:.4f}'.format(sharpe_ratio))"
      ],
      "execution_count": null,
      "outputs": [
        {
          "output_type": "stream",
          "name": "stdout",
          "text": [
            "Retorno esperado anulizado: 0.1423\n",
            "Volatilidad anulizada: 0.3475\n",
            "Sharpe Ratio: 0.3808\n"
          ]
        }
      ]
    },
    {
      "cell_type": "code",
      "metadata": {
        "id": "UvOvJPN3ffsZ"
      },
      "source": [
        ""
      ],
      "execution_count": null,
      "outputs": []
    }
  ]
}